{
 "cells": [
  {
   "cell_type": "markdown",
   "id": "dce2fc54-4639-4c72-bb7c-23648dee0cb7",
   "metadata": {},
   "source": [
    "In this notebook, we estimate the rime required for [LFPy](https://www.frontiersin.org/articles/10.3389/fninf.2018.00092/full) and [BioNet](https://journals.plos.org/plosone/article?id=10.1371/journal.pone.0201630) to run a simulation of the size of the full SSCx simulation reported in the BlueRecording paper, assuming parallelization over the same number of cores. This calculation is reported in Table 4."
   ]
  },
  {
   "cell_type": "code",
   "execution_count": 1,
   "id": "4ee15268",
   "metadata": {},
   "outputs": [],
   "source": [
    "import numpy as np\n",
    "import matplotlib.pyplot as plt"
   ]
  },
  {
   "cell_type": "markdown",
   "id": "0575aca2",
   "metadata": {},
   "source": [
    "# LFPy"
   ]
  },
  {
   "cell_type": "code",
   "execution_count": 5,
   "id": "685253ce-fd6d-4fc1-9236-4448f1fd6ae1",
   "metadata": {},
   "outputs": [
    {
     "name": "stdout",
     "output_type": "stream",
     "text": [
      "34.567901234567906\n"
     ]
    }
   ],
   "source": [
    "LFPyNetworkSize = 2880 # Number of cells simulated in the LFPy paper linked above (see Fig. 7)\n",
    "LFPyCores = 480 # (Number of cores used in the LFPy simulation. N_MPI, from Figure 7A)\n",
    "LFPyTime = 256 # (Simulation time required by LFPy for the simulation described above, in seconds. As we do not include the time to instantiate the network, and use the simulation time without extracellular recording, this calculation is an underestimate)\n",
    "LFPyTimeStep = 0.0625 # Time step of LFPy simulations, in ms\n",
    "LFPyDuration = 1.5 # Simulated biological duration of LFPy simulation, in seconds\n",
    "\n",
    "networkSize = 4200000 # Approximate number of cells in the BBP SSCx model\n",
    "nCores = 12000 # Number of cores used to simulate the SSCx\n",
    "timeStep = 0.025 # Time step used in SSCx simulation, in ms\n",
    "duration = 5 # Simulated biological duration of SSCx simulation, in seconds\n",
    "\n",
    "estimatedTime = LFPyTime * LFPyCores/nCores * networkSize/LFPyNetworkSize * duration/LFPyDuration * LFPyTimeStep/timeStep\n",
    "\n",
    "print(estimatedTime/60/60) # Time, in hours, estimated for LFPy to run an equivalent simulation"
   ]
  },
  {
   "cell_type": "markdown",
   "id": "fd58521a",
   "metadata": {},
   "source": [
    "# BioNet"
   ]
  },
  {
   "cell_type": "code",
   "execution_count": 6,
   "id": "c7d27b55",
   "metadata": {},
   "outputs": [
    {
     "name": "stdout",
     "output_type": "stream",
     "text": [
      "28.0\n"
     ]
    }
   ],
   "source": [
    "BioNetNetworkSize = 10000 # Number of biophysically detailed cells simulated in the BioNet paper linked above. We do not take into account the point neurons included in this simulation\n",
    "BioNetCores = 480 # Number of cores used in the BioNet simulation (Figure 7)\n",
    "BioNetDuration = 60 # Simulated biological duration of BioNet simulation, in seconds\n",
    "BioNetTimeStep = 0.025 # Time step of BioNet simulations, in ms\n",
    "BioNetTime = 20 # Time required to run BioNet simulation, in hours\n",
    "\n",
    "\n",
    "networkSize = 4200000 # Approximate number of cells in the BBP SSCx model\n",
    "nCores = 12000 # Number of cores used to simulate the SSCx\n",
    "timeStep = 0.025 # Time step used in SSCx simulation, in ms\n",
    "duration = 5 # Duration of SSCx simulation, in seconds\n",
    "\n",
    "estimatedTime = BioNetTime * BioNetCores/nCores * networkSize/BioNetNetworkSize * duration/BioNetDuration * BioNetTimeStep/timeStep\n",
    "print(estimatedTime) # Time, in hours, estimated for BioNet to run an equivalent simulation\n"
   ]
  },
  {
   "cell_type": "code",
   "execution_count": null,
   "id": "fd7ac44d",
   "metadata": {},
   "outputs": [],
   "source": []
  }
 ],
 "metadata": {
  "kernelspec": {
   "display_name": "Python 3 (ipykernel)",
   "language": "python",
   "name": "python3"
  },
  "language_info": {
   "codemirror_mode": {
    "name": "ipython",
    "version": 3
   },
   "file_extension": ".py",
   "mimetype": "text/x-python",
   "name": "python",
   "nbconvert_exporter": "python",
   "pygments_lexer": "ipython3",
   "version": "3.11.6"
  }
 },
 "nbformat": 4,
 "nbformat_minor": 5
}
