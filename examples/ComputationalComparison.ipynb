{
 "cells": [
  {
   "cell_type": "code",
   "execution_count": 1,
   "id": "4ee15268",
   "metadata": {},
   "outputs": [],
   "source": [
    "import numpy as np\n",
    "import matplotlib.pyplot as plt"
   ]
  },
  {
   "cell_type": "markdown",
   "id": "0575aca2",
   "metadata": {},
   "source": [
    "# LFPy"
   ]
  },
  {
   "cell_type": "code",
   "execution_count": null,
   "id": "b63f9e09",
   "metadata": {},
   "outputs": [],
   "source": []
  },
  {
   "cell_type": "code",
   "execution_count": 7,
   "id": "547c6ee4",
   "metadata": {},
   "outputs": [
    {
     "name": "stdout",
     "output_type": "stream",
     "text": [
      "380.24691358024694\n",
      "58.49952516619184\n"
     ]
    }
   ],
   "source": [
    "baselineNetworkSize = 2880\n",
    "baselineCores = 480\n",
    "baselineTime = 256\n",
    "\n",
    "networkSize = 4200000\n",
    "nCores = 12000\n",
    "\n",
    "time = baselineTime * baselineCores/nCores*networkSize/baselineNetworkSize\n",
    "\n",
    "timeStepDifference = 0.0625/0.0025\n",
    "lengthDifference = 5.5/1.5\n",
    "\n",
    "ourTime = 6.5*60*60\n",
    "print(time*timeStepDifference*lengthDifference/60/60)\n",
    "print(time*timeStepDifference*lengthDifference/ourTime)"
   ]
  },
  {
   "cell_type": "markdown",
   "id": "fd58521a",
   "metadata": {},
   "source": [
    "# BioNet"
   ]
  },
  {
   "cell_type": "code",
   "execution_count": 5,
   "id": "c7d27b55",
   "metadata": {},
   "outputs": [
    {
     "name": "stdout",
     "output_type": "stream",
     "text": [
      "3665.4545454545455\n",
      "563.916083916084\n"
     ]
    }
   ],
   "source": [
    "baselineNetworkSize = 10000\n",
    "baselineCores = 480\n",
    "lengthDifference = 60/5.5\n",
    "timeStepDifference = 0.0025/0.0025\n",
    "baselineTime = 20*60*60\n",
    "\n",
    "networkSize = 4200000\n",
    "nCores = 12000\n",
    "\n",
    "time = baselineTime * baselineCores/nCores*networkSize/baselineNetworkSize\n",
    "\n",
    "ourTime = 6.5*60*60\n",
    "\n",
    "print(time*timeStepDifference*lengthDifference/60/60)\n",
    "\n",
    "print(time*timeStepDifference*lengthDifference/ourTime)"
   ]
  },
  {
   "cell_type": "code",
   "execution_count": null,
   "id": "fd7ac44d",
   "metadata": {},
   "outputs": [],
   "source": []
  }
 ],
 "metadata": {
  "kernelspec": {
   "display_name": "Python 3 (ipykernel)",
   "language": "python",
   "name": "python3"
  },
  "language_info": {
   "codemirror_mode": {
    "name": "ipython",
    "version": 3
   },
   "file_extension": ".py",
   "mimetype": "text/x-python",
   "name": "python",
   "nbconvert_exporter": "python",
   "pygments_lexer": "ipython3",
   "version": "3.11.6"
  }
 },
 "nbformat": 4,
 "nbformat_minor": 5
}
