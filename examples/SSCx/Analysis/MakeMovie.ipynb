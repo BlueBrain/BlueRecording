{
 "cells": [
  {
   "cell_type": "code",
   "execution_count": 1,
   "id": "f4baf1c5-19af-44c0-ae04-21e7fd43e807",
   "metadata": {},
   "outputs": [],
   "source": [
    "import numpy\n",
    "import numpy as np\n",
    "import pandas\n",
    "import pandas as pd\n",
    "import os\n",
    "import tqdm\n",
    "import pandas as pd\n",
    "from matplotlib import pyplot as plt\n",
    "import voxcell"
   ]
  },
  {
   "cell_type": "code",
   "execution_count": 2,
   "id": "ad2eb84d-79b4-4cd3-a1ed-f76424ee2140",
   "metadata": {},
   "outputs": [],
   "source": [
    "\n",
    "def make_t_bins(t_start, t_end, t_step):\n",
    "    t_bins = numpy.arange(t_start, t_end + t_step, t_step)\n",
    "    return t_bins\n",
    "\n",
    "def flatten_locations(locations, flatmap):\n",
    "    if isinstance(flatmap, list):\n",
    "        flat_locations = locations[flatmap].values\n",
    "    else:\n",
    "        from voxcell import VoxelData\n",
    "        fm = VoxelData.load_nrrd(flatmap)\n",
    "        flat_locations = fm.lookup(locations.values).astype(float)\n",
    "        flat_locations[flat_locations == -1] = numpy.NaN\n",
    "    return pandas.DataFrame(flat_locations, index=locations.index)\n",
    "\n",
    "\n",
    "def make_spatial_bins(flat_locations, nbins=1000):\n",
    "    mn = numpy.nanmin(flat_locations, axis=0)\n",
    "    mx = numpy.nanmax(flat_locations, axis=0)\n",
    "    ratio = (mx[1] - mn[1]) / (mx[0] - mn[0]) # ratio * nx ** 2 = nbins\n",
    "    nx = int(numpy.sqrt(nbins / ratio))\n",
    "    ny = int(nbins / nx)\n",
    "    binsx = numpy.linspace(mn[0], mx[0] + 1E-3, nx + 1)\n",
    "    binsy = numpy.linspace(mn[1], mx[1] + 1E-3, ny + 1)\n",
    "    return binsx, binsy\n",
    "\n",
    "def make_histogram_function(t_bins, loc_bins, location_dframe, spikes):\n",
    "    t_step = numpy.mean(numpy.diff(t_bins))\n",
    "    fac = 1000.0 / t_step\n",
    "    nrns_per_bin = numpy.histogram2d(location_dframe.values[:, 0],\n",
    "                                     location_dframe.values[:, 1],\n",
    "                                     bins=loc_bins)[0]\n",
    "    nrns_per_bin = nrns_per_bin.reshape((1,) + nrns_per_bin.shape)\n",
    "\n",
    "    spikes = spikes.loc[numpy.in1d(spikes.values, location_dframe.index.values)]\n",
    "    t = spikes.index.values\n",
    "    loc = location_dframe.loc[spikes['gid']].values\n",
    "    raw, _ = numpy.histogramdd((t, loc[:, 0], loc[:, 1]), bins=(t_bins,) + loc_bins)\n",
    "    raw = fac * raw / (nrns_per_bin + 1E-6)\n",
    "    return raw\n",
    "\n"
   ]
  },
  {
   "cell_type": "code",
   "execution_count": 62,
   "id": "3379e5d8-e27e-4080-bf95-4d8c4729fa99",
   "metadata": {},
   "outputs": [],
   "source": [
    "t_bins = make_t_bins(2000, 3600, 20)"
   ]
  },
  {
   "cell_type": "code",
   "execution_count": 4,
   "id": "7e485200-1dd3-428f-a9bd-b073915af225",
   "metadata": {},
   "outputs": [],
   "source": [
    "import bluepysnap as bp"
   ]
  },
  {
   "cell_type": "code",
   "execution_count": 5,
   "id": "48ad3ec8-a786-4f5e-b4d4-5740b0cfe4b9",
   "metadata": {},
   "outputs": [],
   "source": [
    "s = bp.Simulation('simulation_config.json')"
   ]
  },
  {
   "cell_type": "code",
   "execution_count": 6,
   "id": "ead8b876-1b92-4481-9fb9-af4ef4ba2971",
   "metadata": {},
   "outputs": [],
   "source": [
    "regions = ['S1FL','S1DZ','S1DZO','S1HL','S1Sh','S1Tr','S1ULp']\n",
    "\n",
    "types = np.sort(list(s.circuit.nodes.property_values('mtype')))\n",
    "\n",
    "index = 0\n",
    "\n",
    "path_to_spikes = 'pkls/'\n",
    "\n",
    "for region in regions:\n",
    "    for t in types:\n",
    "        \n",
    "        report = pd.read_pickle(path_to_spikes+'/spikes_'+region+'_'+t+'.pkl')\n",
    "        \n",
    "        if index == 0:\n",
    "            spikeReports = report\n",
    "        else:\n",
    "            spikeReports = pd.concat((spikeReports,report))\n",
    "        "
   ]
  },
  {
   "cell_type": "code",
   "execution_count": 7,
   "id": "dcda35af-d164-4f4f-8740-097ce5b29105",
   "metadata": {},
   "outputs": [],
   "source": [
    "spikeReports.name = 'gid'"
   ]
  },
  {
   "cell_type": "code",
   "execution_count": 8,
   "id": "6f1dd52a-2d97-4a16-a081-085d6a7c8a0d",
   "metadata": {},
   "outputs": [],
   "source": [
    "c = s.circuit"
   ]
  },
  {
   "cell_type": "code",
   "execution_count": 9,
   "id": "0a635e8f-3330-4838-bf39-5ec0bda8c6fc",
   "metadata": {},
   "outputs": [],
   "source": [
    "gids = np.unique(spikeReports.values)"
   ]
  },
  {
   "cell_type": "code",
   "execution_count": 10,
   "id": "2b2ef2f9-0db5-4196-93ab-ab38cb9e1c41",
   "metadata": {},
   "outputs": [],
   "source": [
    "spikeReports = pd.DataFrame(spikeReports)"
   ]
  },
  {
   "cell_type": "code",
   "execution_count": 11,
   "id": "3a5277ed-7232-4936-8d9f-63947e41efda",
   "metadata": {},
   "outputs": [],
   "source": [
    "pop = bp.nodes.NodePopulation(c,'S1nonbarrel_neurons')"
   ]
  },
  {
   "cell_type": "code",
   "execution_count": 12,
   "id": "7bb2c3a8-c833-4c3c-894d-fd22e18c73b0",
   "metadata": {},
   "outputs": [],
   "source": [
    "locations = pop.get(properties=[\"x\", \"y\", \"z\"])"
   ]
  },
  {
   "cell_type": "code",
   "execution_count": 42,
   "id": "d877b74a-3fd2-4b79-be39-da13e2ff45b6",
   "metadata": {},
   "outputs": [],
   "source": [
    "flatmap = '/gpfs/bbp.cscs.ch/project/proj83/home/bolanos/BB_Rat_SSCX_flatmap_v2.nrrd'"
   ]
  },
  {
   "cell_type": "code",
   "execution_count": 43,
   "id": "e5cc9e8d-614a-4e4e-a3de-a0bd7efa8e0a",
   "metadata": {},
   "outputs": [],
   "source": [
    "flatlocs = flatten_locations(locations,flatmap)"
   ]
  },
  {
   "cell_type": "code",
   "execution_count": 44,
   "id": "01aebdc0-69df-4146-81f2-41254fbccd03",
   "metadata": {},
   "outputs": [],
   "source": [
    "loc_bins = make_spatial_bins(flatlocs,1000)"
   ]
  },
  {
   "cell_type": "code",
   "execution_count": 63,
   "id": "6684b1ff-14a6-47a8-ac30-6d4d4f4cfbf1",
   "metadata": {},
   "outputs": [],
   "source": [
    "spatial_temporal_hist = make_histogram_function(t_bins, loc_bins, flatlocs, spikeReports)"
   ]
  },
  {
   "cell_type": "code",
   "execution_count": 31,
   "id": "36f58f1c-be35-4fc9-b8db-c7e8c1758148",
   "metadata": {},
   "outputs": [],
   "source": [
    "from scipy.ndimage import gaussian_filter"
   ]
  },
  {
   "cell_type": "code",
   "execution_count": 18,
   "id": "cd4f64e9-238c-475a-a968-c47b6b0492ce",
   "metadata": {},
   "outputs": [],
   "source": [
    "smoothed_spatial_temporal_hist = gaussian_filter(spatial_temporal_hist, [1.0, 1.0, 1.0])\n"
   ]
  },
  {
   "cell_type": "code",
   "execution_count": 66,
   "id": "6adc5ccd-5f8b-4677-9255-336092765657",
   "metadata": {},
   "outputs": [],
   "source": [
    "timePoints = np.array([2200,2600,3000,3400])"
   ]
  },
  {
   "cell_type": "code",
   "execution_count": 110,
   "id": "342c85e1-3e3d-4ba2-878f-a9a49f67d731",
   "metadata": {},
   "outputs": [
    {
     "name": "stderr",
     "output_type": "stream",
     "text": [
      "/gpfs/bbp.cscs.ch/ssd/slurmTmpFS/tharayil/2079658/ipykernel_99424/4039674451.py:42: MatplotlibDeprecationWarning: The toggle_label function was deprecated in Matplotlib 3.8 and will be removed two minor releases later. Use ax.tick_params and colorbar.set_label instead.\n",
      "  ax.cax.toggle_label(True)\n"
     ]
    },
    {
     "data": {
      "image/png": "[encoded data removed]",
      "text/plain": [
       "<Figure size 600x600 with 8 Axes>"
      ]
     },
     "metadata": {},
     "output_type": "display_data"
    }
   ],
   "source": [
    "from mpl_toolkits.axes_grid1 import ImageGrid\n",
    "\n",
    "images = []\n",
    "\n",
    "for i, time in enumerate(timePoints):\n",
    "\n",
    "    binIdx = np.where(t_bins>time)[0][0]\n",
    "     \n",
    "    images.append(spatial_temporal_hist[binIdx])\n",
    "\n",
    "fig = plt.figure(figsize=(6., 6.))\n",
    "grid = ImageGrid(fig, 111,  # similar to subplot(111)\n",
    "                 nrows_ncols=(1, 4),  # creates 1x4 grid of axes\n",
    "                 direction=\"row\",\n",
    "                 axes_pad=0.05,\n",
    "                 label_mode=\"1\",\n",
    "                 share_all=True,\n",
    "                 cbar_location=\"right\",\n",
    "                 cbar_mode=\"single\",\n",
    "                 cbar_size=\"10%\",\n",
    "                 cbar_pad=0.2,\n",
    "                 )\n",
    "\n",
    "i = 0\n",
    "\n",
    "vmax, vmin = 0.2,0\n",
    "import matplotlib.colors\n",
    "norm = matplotlib.colors.Normalize(vmax=vmax, vmin=vmin)\n",
    "\n",
    "\n",
    "for ax, im in zip(grid, images):\n",
    "    # Iterating over the grid returns the Axes.\n",
    "    image = ax.imshow(im,norm=norm)\n",
    "\n",
    "    ax.set_title(str(timePoints[i])+' ms')\n",
    "\n",
    "    ax.axis('off')\n",
    "\n",
    "    i += 1\n",
    "\n",
    "ax.cax.colorbar(image,label='Firing rate (Hz)')\n",
    "ax.cax.toggle_label(True)\n",
    "\n",
    "plt.savefig('../../../figures/topdown.png',dpi=600)"
   ]
  },
  {
   "cell_type": "code",
   "execution_count": 32,
   "id": "98d28c46-ef93-4ced-9fa4-47a06e7c30b6",
   "metadata": {},
   "outputs": [
    {
     "data": {
      "text/plain": [
       "(6, 98, 102)"
      ]
     },
     "execution_count": 32,
     "metadata": {},
     "output_type": "execute_result"
    }
   ],
   "source": [
    "spatial_temporal_hist.shape"
   ]
  },
  {
   "cell_type": "code",
   "execution_count": 19,
   "id": "4f40d093-8106-4452-ac00-730535a5de01",
   "metadata": {},
   "outputs": [],
   "source": [
    "def plot(Hs, t_bins, loc_bins, images_dir, delete_images, video_output_root, min_color_lim_pct=-1):\n",
    "    if not os.path.isdir(images_dir):\n",
    "        _ = os.makedirs(images_dir)\n",
    "    from matplotlib import pyplot as plt\n",
    "\n",
    "    mx_clim = numpy.percentile(Hs, 99)\n",
    "    mn_clim = 0\n",
    "    if (min_color_lim_pct != -1):\n",
    "        mn_clim = numpy.percentile(Hs, 95)\n",
    "    print(mn_clim)\n",
    "\n",
    "    cmap = matplotlib.cm.cividis\n",
    "    cmap.set_bad('white',1.)\n",
    "        \n",
    "\n",
    "    fps = []\n",
    "    for t_start, t_end, bin_index in tqdm.tqdm(zip(t_bins[:-1], t_bins[1:], list(range(len(t_bins))))):\n",
    "        fig = plt.figure(figsize=(10, 10))\n",
    "        ax = fig.add_axes([0.05, 0.05, 0.9, 0.9])\n",
    "        img = ax.imshow(Hs[bin_index, :, :], cmap=cmap)\n",
    "        img.set_clim([mn_clim, mx_clim])\n",
    "        ax.set_title(\"{0} - {1} ms\".format(t_start, t_end))\n",
    "        plt.colorbar(img, cmap=cmap, label='FR (spikes / s')\n",
    "        plt.box(False)\n",
    "        fn = \"frame{:04d}.png\".format(bin_index)\n",
    "        fp = os.path.join(images_dir, fn)\n",
    "        fig.savefig(fp)\n",
    "        fps.append(fp)\n",
    "        if (bin_index == 0):\n",
    "            fn = \"frame{:04d}.pdf\".format(bin_index)\n",
    "            fp = os.path.join(images_dir, fn)\n",
    "            fig.savefig(fp)\n",
    "        \n",
    "        plt.close(fig)\n",
    "\n",
    "    c_etl.video_from_image_files(fps, video_output_root + \".mp4\")\n",
    "    if delete_images:\n",
    "        for f in fps:\n",
    "            os.remove(f)\n"
   ]
  },
  {
   "cell_type": "code",
   "execution_count": null,
   "id": "9b1e41a2-ea40-4976-8c5f-e677df018b92",
   "metadata": {},
   "outputs": [],
   "source": []
  }
 ],
 "metadata": {
  "kernelspec": {
   "display_name": "Python 3 (ipykernel)",
   "language": "python",
   "name": "python3"
  },
  "language_info": {
   "codemirror_mode": {
    "name": "ipython",
    "version": 3
   },
   "file_extension": ".py",
   "mimetype": "text/x-python",
   "name": "python",
   "nbconvert_exporter": "python",
   "pygments_lexer": "ipython3",
   "version": "3.11.6"
  }
 },
 "nbformat": 4,
 "nbformat_minor": 5
}
