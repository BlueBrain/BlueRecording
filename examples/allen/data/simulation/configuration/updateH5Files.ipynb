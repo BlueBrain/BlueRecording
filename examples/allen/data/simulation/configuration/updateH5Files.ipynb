{
 "cells": [
  {
   "cell_type": "code",
   "execution_count": 1,
   "id": "4fdb7b2c-f6b1-4a65-86eb-179549b9a6b9",
   "metadata": {},
   "outputs": [],
   "source": [
    "import numpy as np\n",
    "import pandas as pd"
   ]
  },
  {
   "cell_type": "code",
   "execution_count": 2,
   "id": "2a60a9ec-58c0-4313-a7e1-3c5f7ba50734",
   "metadata": {},
   "outputs": [],
   "source": [
    "import h5py"
   ]
  },
  {
   "cell_type": "code",
   "execution_count": 102,
   "id": "f1b8eee3-241e-4229-b0d0-2e6a97947143",
   "metadata": {},
   "outputs": [],
   "source": [
    "f = h5py.File('network/v1_nodes.h5','r+')"
   ]
  },
  {
   "cell_type": "code",
   "execution_count": 103,
   "id": "06bbf799-daa5-4b3f-849e-c235533ed15b",
   "metadata": {},
   "outputs": [],
   "source": [
    "csv = pd.read_csv('network/v1_node_types.csv',delimiter=' ',index_col=0)"
   ]
  },
  {
   "cell_type": "code",
   "execution_count": 104,
   "id": "b57273bd-2fab-4085-882d-db298ad22ec5",
   "metadata": {},
   "outputs": [],
   "source": [
    "list_of_node_types = f['nodes']['v1']['node_type_id'][:]"
   ]
  },
  {
   "cell_type": "code",
   "execution_count": 105,
   "id": "683bb036-afbd-42ac-8daa-1b0f270a9826",
   "metadata": {},
   "outputs": [],
   "source": [
    "morphologies = []\n",
    "model_types = []\n",
    "synapse_classes = []\n",
    "\n",
    "model_templates = []\n",
    "\n",
    "morph_class = []\n",
    "etypes = []\n",
    "mtypes = []\n",
    "threshold_currents = []\n",
    "holding_currents = []\n",
    "\n",
    "rotation_angle_zaxis = []\n",
    "rotation_angle_xaxis = []\n",
    "\n",
    "for t in list_of_node_types:\n",
    "\n",
    "    thisCsv = csv.loc[t]\n",
    "\n",
    "    model_type = thisCsv['model_type']\n",
    "    model_types.append(model_type)\n",
    "    \n",
    "    morph = thisCsv['morphology']\n",
    "\n",
    "    if model_type=='biophysical':\n",
    "        \n",
    "        morphologies.append(morph.split('.swc')[0])\n",
    "        \n",
    "        \n",
    "    elif model_type=='point_process':\n",
    "        morphologies.append('NaN')\n",
    "\n",
    "    rotation_angle_zaxis.append(thisCsv['rotation_angle_zaxis'])\n",
    "    rotation_angle_xaxis.append(0)\n",
    "\n",
    "    ei = thisCsv['ei']\n",
    "\n",
    "    if ei == 'i':\n",
    "        synapse_classes.append('INT')\n",
    "    elif ei == 'e':\n",
    "        synapse_classes.append('EXC')\n",
    "\n",
    "    morph_class.append('idk')\n",
    "    etypes.append('idk')\n",
    "    mtypes.append('idk')\n",
    "    threshold_currents.append('idk')\n",
    "    holding_currents.append('idk')\n",
    "\n",
    "    model_templates.append('idk')\n"
   ]
  },
  {
   "cell_type": "code",
   "execution_count": 106,
   "id": "64a71095-5b49-4257-a7fc-155bfaca5e9c",
   "metadata": {},
   "outputs": [],
   "source": [
    "# f['nodes']['v1']['0']['morphology'] = morphologies\n",
    "# f['nodes']['v1']['0']['model_type'] = model_types\n",
    "# f['nodes']['v1']['0']['synapse_class'] = synapse_classes\n",
    "\n",
    "# f['nodes']['v1']['0']['model_template'] = model_templates\n",
    "\n",
    "# f['nodes']['v1']['0']['morph_class'] = morph_class\n",
    "# f['nodes']['v1']['0']['etype'] = etypes\n",
    "# f['nodes']['v1']['0']['mtype'] = mtypes\n",
    "# f['nodes']['v1']['0']['threshold_current'] = threshold_currents\n",
    "# f['nodes']['v1']['0']['holding_current'] = holding_currents\n",
    "\n",
    "# f['nodes']['v1']['0']['rotation_angle_zaxis'] = rotation_angle_zaxis\n",
    "\n",
    "f['nodes']['v1']['0']['rotation_angle_xaxis'] = rotation_angle_xaxis\n"
   ]
  },
  {
   "cell_type": "code",
   "execution_count": 107,
   "id": "376421e4-cb0c-46a5-959a-0426eafe9198",
   "metadata": {},
   "outputs": [],
   "source": [
    "f.close()"
   ]
  },
  {
   "cell_type": "code",
   "execution_count": 90,
   "id": "7467449b-83b5-483e-9569-32d7a2ef3758",
   "metadata": {},
   "outputs": [
    {
     "data": {
      "text/html": [
       "<div>\n",
       "<style scoped>\n",
       "    .dataframe tbody tr th:only-of-type {\n",
       "        vertical-align: middle;\n",
       "    }\n",
       "\n",
       "    .dataframe tbody tr th {\n",
       "        vertical-align: top;\n",
       "    }\n",
       "\n",
       "    .dataframe thead th {\n",
       "        text-align: right;\n",
       "    }\n",
       "</style>\n",
       "<table border=\"1\" class=\"dataframe\">\n",
       "  <thead>\n",
       "    <tr style=\"text-align: right;\">\n",
       "      <th></th>\n",
       "      <th>model_type</th>\n",
       "      <th>morphology</th>\n",
       "      <th>dynamics_params</th>\n",
       "      <th>rotation_angle_zaxis</th>\n",
       "      <th>population</th>\n",
       "      <th>pop_name</th>\n",
       "      <th>location</th>\n",
       "      <th>ei</th>\n",
       "      <th>model_processing</th>\n",
       "      <th>model_template</th>\n",
       "    </tr>\n",
       "    <tr>\n",
       "      <th>node_type_id</th>\n",
       "      <th></th>\n",
       "      <th></th>\n",
       "      <th></th>\n",
       "      <th></th>\n",
       "      <th></th>\n",
       "      <th></th>\n",
       "      <th></th>\n",
       "      <th></th>\n",
       "      <th></th>\n",
       "      <th></th>\n",
       "    </tr>\n",
       "  </thead>\n",
       "  <tbody>\n",
       "    <tr>\n",
       "      <th>313861608</th>\n",
       "      <td>biophysical</td>\n",
       "      <td>Pvalb-IRES-Cre_Ai14-165874.04.02.01_491119570_...</td>\n",
       "      <td>313861608_fit.json</td>\n",
       "      <td>0.079755</td>\n",
       "      <td>v1</td>\n",
       "      <td>i5Pvalb</td>\n",
       "      <td>VisL5</td>\n",
       "      <td>i</td>\n",
       "      <td>aibs_perisomatic</td>\n",
       "      <td>ctdb:Biophys1.hoc</td>\n",
       "    </tr>\n",
       "    <tr>\n",
       "      <th>313862022</th>\n",
       "      <td>biophysical</td>\n",
       "      <td>Scnn1a-Tg2-Cre_Ai14_IVSCC_-167081.03.02.01_397...</td>\n",
       "      <td>313862022_fit.json</td>\n",
       "      <td>-2.623578</td>\n",
       "      <td>v1</td>\n",
       "      <td>NaN</td>\n",
       "      <td>NaN</td>\n",
       "      <td>NaN</td>\n",
       "      <td>aibs_perisomatic</td>\n",
       "      <td>ctdb:Biophys1.hoc</td>\n",
       "    </tr>\n",
       "    <tr>\n",
       "      <th>313862167</th>\n",
       "      <td>biophysical</td>\n",
       "      <td>Sst-IRES-Cre_Ai14-167638.05.02.01_501934125_m.swc</td>\n",
       "      <td>313862167_fit.json</td>\n",
       "      <td>-2.081339</td>\n",
       "      <td>v1</td>\n",
       "      <td>i4Sst</td>\n",
       "      <td>VisL4</td>\n",
       "      <td>i</td>\n",
       "      <td>aibs_perisomatic</td>\n",
       "      <td>ctdb:Biophys1.hoc</td>\n",
       "    </tr>\n",
       "    <tr>\n",
       "      <th>313862306</th>\n",
       "      <td>biophysical</td>\n",
       "      <td>Sst-IRES-Cre_Ai14-167636.04.01.01_491119515_m.swc</td>\n",
       "      <td>313862306_fit.json</td>\n",
       "      <td>-3.852449</td>\n",
       "      <td>v1</td>\n",
       "      <td>i6Sst</td>\n",
       "      <td>VisL6</td>\n",
       "      <td>i</td>\n",
       "      <td>aibs_perisomatic</td>\n",
       "      <td>ctdb:Biophys1.hoc</td>\n",
       "    </tr>\n",
       "    <tr>\n",
       "      <th>314642645</th>\n",
       "      <td>biophysical</td>\n",
       "      <td>Rorb-IRES2-Cre-D_Ai14-168052.03.02.01_49177014...</td>\n",
       "      <td>314642645_fit.json</td>\n",
       "      <td>-4.082582</td>\n",
       "      <td>v1</td>\n",
       "      <td>e4Rorb</td>\n",
       "      <td>VisL4</td>\n",
       "      <td>e</td>\n",
       "      <td>aibs_perisomatic</td>\n",
       "      <td>ctdb:Biophys1.hoc</td>\n",
       "    </tr>\n",
       "    <tr>\n",
       "      <th>...</th>\n",
       "      <td>...</td>\n",
       "      <td>...</td>\n",
       "      <td>...</td>\n",
       "      <td>...</td>\n",
       "      <td>...</td>\n",
       "      <td>...</td>\n",
       "      <td>...</td>\n",
       "      <td>...</td>\n",
       "      <td>...</td>\n",
       "      <td>...</td>\n",
       "    </tr>\n",
       "    <tr>\n",
       "      <th>100000119</th>\n",
       "      <td>point_process</td>\n",
       "      <td>NaN</td>\n",
       "      <td>e5noRbp4_avg_lif.json</td>\n",
       "      <td>NaN</td>\n",
       "      <td>v1</td>\n",
       "      <td>LIFe5noRbp4</td>\n",
       "      <td>VisL5</td>\n",
       "      <td>e</td>\n",
       "      <td>NaN</td>\n",
       "      <td>nrn:IntFire1</td>\n",
       "    </tr>\n",
       "    <tr>\n",
       "      <th>100000120</th>\n",
       "      <td>point_process</td>\n",
       "      <td>NaN</td>\n",
       "      <td>i6Sst_avg_lif.json</td>\n",
       "      <td>NaN</td>\n",
       "      <td>v1</td>\n",
       "      <td>LIFi6Sst</td>\n",
       "      <td>VisL6</td>\n",
       "      <td>i</td>\n",
       "      <td>NaN</td>\n",
       "      <td>nrn:IntFire1</td>\n",
       "    </tr>\n",
       "    <tr>\n",
       "      <th>100000121</th>\n",
       "      <td>point_process</td>\n",
       "      <td>NaN</td>\n",
       "      <td>e6Ntsr1_avg_lif.json</td>\n",
       "      <td>NaN</td>\n",
       "      <td>v1</td>\n",
       "      <td>LIFe6Ntsr1</td>\n",
       "      <td>VisL6</td>\n",
       "      <td>e</td>\n",
       "      <td>NaN</td>\n",
       "      <td>nrn:IntFire1</td>\n",
       "    </tr>\n",
       "    <tr>\n",
       "      <th>581001895</th>\n",
       "      <td>biophysical</td>\n",
       "      <td>Htr3a-Cre_NO152_Ai14-198254.03.02.01_491119526...</td>\n",
       "      <td>481001895_fit.json</td>\n",
       "      <td>-3.723285</td>\n",
       "      <td>v1</td>\n",
       "      <td>i6Htr3a</td>\n",
       "      <td>VisL6</td>\n",
       "      <td>i</td>\n",
       "      <td>aibs_perisomatic</td>\n",
       "      <td>ctdb:Biophys1.hoc</td>\n",
       "    </tr>\n",
       "    <tr>\n",
       "      <th>581136138</th>\n",
       "      <td>biophysical</td>\n",
       "      <td>Htr3a-Cre_NO152_Ai14-200434.06.02.01_513556274...</td>\n",
       "      <td>481136138_fit.json</td>\n",
       "      <td>-3.311771</td>\n",
       "      <td>v1</td>\n",
       "      <td>i6Htr3a</td>\n",
       "      <td>VisL6</td>\n",
       "      <td>i</td>\n",
       "      <td>aibs_perisomatic</td>\n",
       "      <td>ctdb:Biophys1.hoc</td>\n",
       "    </tr>\n",
       "  </tbody>\n",
       "</table>\n",
       "<p>190 rows × 10 columns</p>\n",
       "</div>"
      ],
      "text/plain": [
       "                 model_type  \\\n",
       "node_type_id                  \n",
       "313861608       biophysical   \n",
       "313862022       biophysical   \n",
       "313862167       biophysical   \n",
       "313862306       biophysical   \n",
       "314642645       biophysical   \n",
       "...                     ...   \n",
       "100000119     point_process   \n",
       "100000120     point_process   \n",
       "100000121     point_process   \n",
       "581001895       biophysical   \n",
       "581136138       biophysical   \n",
       "\n",
       "                                                     morphology  \\\n",
       "node_type_id                                                      \n",
       "313861608     Pvalb-IRES-Cre_Ai14-165874.04.02.01_491119570_...   \n",
       "313862022     Scnn1a-Tg2-Cre_Ai14_IVSCC_-167081.03.02.01_397...   \n",
       "313862167     Sst-IRES-Cre_Ai14-167638.05.02.01_501934125_m.swc   \n",
       "313862306     Sst-IRES-Cre_Ai14-167636.04.01.01_491119515_m.swc   \n",
       "314642645     Rorb-IRES2-Cre-D_Ai14-168052.03.02.01_49177014...   \n",
       "...                                                         ...   \n",
       "100000119                                                   NaN   \n",
       "100000120                                                   NaN   \n",
       "100000121                                                   NaN   \n",
       "581001895     Htr3a-Cre_NO152_Ai14-198254.03.02.01_491119526...   \n",
       "581136138     Htr3a-Cre_NO152_Ai14-200434.06.02.01_513556274...   \n",
       "\n",
       "                    dynamics_params  rotation_angle_zaxis population  \\\n",
       "node_type_id                                                           \n",
       "313861608        313861608_fit.json              0.079755         v1   \n",
       "313862022        313862022_fit.json             -2.623578         v1   \n",
       "313862167        313862167_fit.json             -2.081339         v1   \n",
       "313862306        313862306_fit.json             -3.852449         v1   \n",
       "314642645        314642645_fit.json             -4.082582         v1   \n",
       "...                             ...                   ...        ...   \n",
       "100000119     e5noRbp4_avg_lif.json                   NaN         v1   \n",
       "100000120        i6Sst_avg_lif.json                   NaN         v1   \n",
       "100000121      e6Ntsr1_avg_lif.json                   NaN         v1   \n",
       "581001895        481001895_fit.json             -3.723285         v1   \n",
       "581136138        481136138_fit.json             -3.311771         v1   \n",
       "\n",
       "                 pop_name location   ei  model_processing     model_template  \n",
       "node_type_id                                                                  \n",
       "313861608         i5Pvalb    VisL5    i  aibs_perisomatic  ctdb:Biophys1.hoc  \n",
       "313862022             NaN      NaN  NaN  aibs_perisomatic  ctdb:Biophys1.hoc  \n",
       "313862167           i4Sst    VisL4    i  aibs_perisomatic  ctdb:Biophys1.hoc  \n",
       "313862306           i6Sst    VisL6    i  aibs_perisomatic  ctdb:Biophys1.hoc  \n",
       "314642645          e4Rorb    VisL4    e  aibs_perisomatic  ctdb:Biophys1.hoc  \n",
       "...                   ...      ...  ...               ...                ...  \n",
       "100000119     LIFe5noRbp4    VisL5    e               NaN       nrn:IntFire1  \n",
       "100000120        LIFi6Sst    VisL6    i               NaN       nrn:IntFire1  \n",
       "100000121      LIFe6Ntsr1    VisL6    e               NaN       nrn:IntFire1  \n",
       "581001895         i6Htr3a    VisL6    i  aibs_perisomatic  ctdb:Biophys1.hoc  \n",
       "581136138         i6Htr3a    VisL6    i  aibs_perisomatic  ctdb:Biophys1.hoc  \n",
       "\n",
       "[190 rows x 10 columns]"
      ]
     },
     "execution_count": 90,
     "metadata": {},
     "output_type": "execute_result"
    }
   ],
   "source": [
    "csv"
   ]
  },
  {
   "cell_type": "code",
   "execution_count": 96,
   "id": "df3d0662-b396-42ad-9853-85bcdefb07f3",
   "metadata": {},
   "outputs": [
    {
     "data": {
      "text/plain": [
       "<HDF5 dataset \"rotation_angle_zaxis\": shape (230924,), type \"<f8\">"
      ]
     },
     "execution_count": 96,
     "metadata": {},
     "output_type": "execute_result"
    }
   ],
   "source": [
    "f['nodes']['v1']['0']['rotation_angle_zaxis']"
   ]
  },
  {
   "cell_type": "code",
   "execution_count": 97,
   "id": "f0577924-7bc4-4472-96d9-be5bbfa0ede2",
   "metadata": {},
   "outputs": [
    {
     "data": {
      "text/plain": [
       "array([1.24732545, 3.41824015, 0.46339714, ..., 6.22889658, 6.03408958,\n",
       "       2.70984187])"
      ]
     },
     "execution_count": 97,
     "metadata": {},
     "output_type": "execute_result"
    }
   ],
   "source": [
    "f['nodes']['v1']['0']['rotation_angle_yaxis'][:]"
   ]
  },
  {
   "cell_type": "code",
   "execution_count": 3,
   "id": "24d8678f-28ea-42b2-8ab2-a19be05a7a1e",
   "metadata": {},
   "outputs": [
    {
     "name": "stderr",
     "output_type": "stream",
     "text": [
      "/tmp/ipykernel_108422/4259286436.py:1: ParserWarning: Falling back to the 'python' engine because the 'c' engine does not support regex separators (separators > 1 char and different from '\\s+' are interpreted as regex); you can avoid this warning by specifying engine='python'.\n",
      "  csv = pd.read_csv('network/v1_v1_edge_types.csv',sep=' |&')\n"
     ]
    }
   ],
   "source": [
    "csv = pd.read_csv('network/v1_v1_edge_types.csv',sep=' |&')"
   ]
  },
  {
   "cell_type": "code",
   "execution_count": 4,
   "id": "3139a191-a033-40eb-924c-8ad2951a797f",
   "metadata": {},
   "outputs": [
    {
     "data": {
      "text/html": [
       "<div>\n",
       "<style scoped>\n",
       "    .dataframe tbody tr th:only-of-type {\n",
       "        vertical-align: middle;\n",
       "    }\n",
       "\n",
       "    .dataframe tbody tr th {\n",
       "        vertical-align: top;\n",
       "    }\n",
       "\n",
       "    .dataframe thead th {\n",
       "        text-align: right;\n",
       "    }\n",
       "</style>\n",
       "<table border=\"1\" class=\"dataframe\">\n",
       "  <thead>\n",
       "    <tr style=\"text-align: right;\">\n",
       "      <th></th>\n",
       "      <th>edge_type_id</th>\n",
       "      <th>dynamics_params</th>\n",
       "      <th>model_template</th>\n",
       "      <th>target_query</th>\n",
       "      <th>source_query</th>\n",
       "      <th>delay</th>\n",
       "    </tr>\n",
       "  </thead>\n",
       "  <tbody>\n",
       "    <tr>\n",
       "      <th>100</th>\n",
       "      <td>AMPA_ExcToExc.json</td>\n",
       "      <td>exp2syn</td>\n",
       "      <td>node_type_id=='471129934'</td>\n",
       "      <td>pop_name=='e5Rbp4'</td>\n",
       "      <td>pop_name=='e5Rbp4'</td>\n",
       "      <td>1.5</td>\n",
       "    </tr>\n",
       "    <tr>\n",
       "      <th>101</th>\n",
       "      <td>AMPA_ExcToExc.json</td>\n",
       "      <td>exp2syn</td>\n",
       "      <td>node_type_id=='471143169'</td>\n",
       "      <td>pop_name=='e5Rbp4'</td>\n",
       "      <td>pop_name=='e5Rbp4'</td>\n",
       "      <td>1.5</td>\n",
       "    </tr>\n",
       "    <tr>\n",
       "      <th>102</th>\n",
       "      <td>AMPA_ExcToExc.json</td>\n",
       "      <td>exp2syn</td>\n",
       "      <td>node_type_id=='471758398'</td>\n",
       "      <td>pop_name=='e5Rbp4'</td>\n",
       "      <td>pop_name=='e5Rbp4'</td>\n",
       "      <td>1.5</td>\n",
       "    </tr>\n",
       "    <tr>\n",
       "      <th>103</th>\n",
       "      <td>AMPA_ExcToExc.json</td>\n",
       "      <td>exp2syn</td>\n",
       "      <td>node_type_id=='471767045'</td>\n",
       "      <td>pop_name=='e5Rbp4'</td>\n",
       "      <td>pop_name=='e5Rbp4'</td>\n",
       "      <td>1.5</td>\n",
       "    </tr>\n",
       "    <tr>\n",
       "      <th>104</th>\n",
       "      <td>AMPA_ExcToExc.json</td>\n",
       "      <td>exp2syn</td>\n",
       "      <td>node_type_id=='485574832'</td>\n",
       "      <td>pop_name=='e5Rbp4'</td>\n",
       "      <td>pop_name=='e5Rbp4'</td>\n",
       "      <td>1.5</td>\n",
       "    </tr>\n",
       "    <tr>\n",
       "      <th>...</th>\n",
       "      <td>...</td>\n",
       "      <td>...</td>\n",
       "      <td>...</td>\n",
       "      <td>...</td>\n",
       "      <td>...</td>\n",
       "      <td>...</td>\n",
       "    </tr>\n",
       "    <tr>\n",
       "      <th>7058</th>\n",
       "      <td>instanteneousInh.json</td>\n",
       "      <td>NaN</td>\n",
       "      <td>node_type_id=='100000107'</td>\n",
       "      <td>pop_name=='LIFi23Htr3a'</td>\n",
       "      <td>pop_name=='LIFi1Htr3a'</td>\n",
       "      <td>3.8</td>\n",
       "    </tr>\n",
       "    <tr>\n",
       "      <th>7059</th>\n",
       "      <td>instanteneousInh.json</td>\n",
       "      <td>NaN</td>\n",
       "      <td>node_type_id=='100000113'</td>\n",
       "      <td>pop_name=='LIFi23Sst'</td>\n",
       "      <td>pop_name=='LIFi1Htr3a'</td>\n",
       "      <td>3.8</td>\n",
       "    </tr>\n",
       "    <tr>\n",
       "      <th>7063</th>\n",
       "      <td>GABA_InhToInh.json</td>\n",
       "      <td>exp2syn</td>\n",
       "      <td>node_type_id=='475585413'</td>\n",
       "      <td>pop_name=='i1Htr3a'</td>\n",
       "      <td>pop_name=='LIFi1Htr3a'</td>\n",
       "      <td>3.8</td>\n",
       "    </tr>\n",
       "    <tr>\n",
       "      <th>7064</th>\n",
       "      <td>GABA_InhToInh.json</td>\n",
       "      <td>exp2syn</td>\n",
       "      <td>node_type_id=='478107198'</td>\n",
       "      <td>pop_name=='i1Htr3a'</td>\n",
       "      <td>pop_name=='LIFi1Htr3a'</td>\n",
       "      <td>3.8</td>\n",
       "    </tr>\n",
       "    <tr>\n",
       "      <th>7065</th>\n",
       "      <td>instanteneousInh.json</td>\n",
       "      <td>NaN</td>\n",
       "      <td>node_type_id=='100000117'</td>\n",
       "      <td>pop_name=='LIFi1Htr3a'</td>\n",
       "      <td>pop_name=='LIFi1Htr3a'</td>\n",
       "      <td>3.8</td>\n",
       "    </tr>\n",
       "  </tbody>\n",
       "</table>\n",
       "<p>4302 rows × 6 columns</p>\n",
       "</div>"
      ],
      "text/plain": [
       "               edge_type_id dynamics_params             model_template  \\\n",
       "100      AMPA_ExcToExc.json         exp2syn  node_type_id=='471129934'   \n",
       "101      AMPA_ExcToExc.json         exp2syn  node_type_id=='471143169'   \n",
       "102      AMPA_ExcToExc.json         exp2syn  node_type_id=='471758398'   \n",
       "103      AMPA_ExcToExc.json         exp2syn  node_type_id=='471767045'   \n",
       "104      AMPA_ExcToExc.json         exp2syn  node_type_id=='485574832'   \n",
       "...                     ...             ...                        ...   \n",
       "7058  instanteneousInh.json             NaN  node_type_id=='100000107'   \n",
       "7059  instanteneousInh.json             NaN  node_type_id=='100000113'   \n",
       "7063     GABA_InhToInh.json         exp2syn  node_type_id=='475585413'   \n",
       "7064     GABA_InhToInh.json         exp2syn  node_type_id=='478107198'   \n",
       "7065  instanteneousInh.json             NaN  node_type_id=='100000117'   \n",
       "\n",
       "                 target_query            source_query  delay  \n",
       "100        pop_name=='e5Rbp4'      pop_name=='e5Rbp4'    1.5  \n",
       "101        pop_name=='e5Rbp4'      pop_name=='e5Rbp4'    1.5  \n",
       "102        pop_name=='e5Rbp4'      pop_name=='e5Rbp4'    1.5  \n",
       "103        pop_name=='e5Rbp4'      pop_name=='e5Rbp4'    1.5  \n",
       "104        pop_name=='e5Rbp4'      pop_name=='e5Rbp4'    1.5  \n",
       "...                       ...                     ...    ...  \n",
       "7058  pop_name=='LIFi23Htr3a'  pop_name=='LIFi1Htr3a'    3.8  \n",
       "7059    pop_name=='LIFi23Sst'  pop_name=='LIFi1Htr3a'    3.8  \n",
       "7063      pop_name=='i1Htr3a'  pop_name=='LIFi1Htr3a'    3.8  \n",
       "7064      pop_name=='i1Htr3a'  pop_name=='LIFi1Htr3a'    3.8  \n",
       "7065   pop_name=='LIFi1Htr3a'  pop_name=='LIFi1Htr3a'    3.8  \n",
       "\n",
       "[4302 rows x 6 columns]"
      ]
     },
     "execution_count": 4,
     "metadata": {},
     "output_type": "execute_result"
    }
   ],
   "source": [
    "csv"
   ]
  },
  {
   "cell_type": "code",
   "execution_count": 22,
   "id": "920d6041-a6f4-48f2-ba57-f31840627a05",
   "metadata": {},
   "outputs": [
    {
     "data": {
      "text/plain": [
       "array(['AMPA_ExcToExc.json', 'AMPA_ExcToInh.json', 'GABA_InhToExc.json',\n",
       "       'GABA_InhToInh.json', 'instanteneousExc.json',\n",
       "       'instanteneousInh.json'], dtype=object)"
      ]
     },
     "execution_count": 22,
     "metadata": {},
     "output_type": "execute_result"
    }
   ],
   "source": [
    "np.unique(csv['edge_type_id'])"
   ]
  },
  {
   "cell_type": "code",
   "execution_count": 5,
   "id": "252e9aee-d374-4b25-98f5-c610c9264447",
   "metadata": {},
   "outputs": [],
   "source": [
    "f = h5py.File('network/v1_v1_edges.h5','r+')"
   ]
  },
  {
   "cell_type": "code",
   "execution_count": 18,
   "id": "d71082ef-cf0a-499f-9d64-8fb691588bb1",
   "metadata": {},
   "outputs": [
    {
     "data": {
      "text/plain": [
       "array([ 100,  101,  102, ..., 7063, 7064, 7065], dtype=uint32)"
      ]
     },
     "execution_count": 18,
     "metadata": {},
     "output_type": "execute_result"
    }
   ],
   "source": [
    "np.unique(f['edges']['v1_to_v1']['edge_type_id'][:])"
   ]
  },
  {
   "cell_type": "code",
   "execution_count": 7,
   "id": "429d1c2f-502e-42f6-8176-3f2019f36dc6",
   "metadata": {},
   "outputs": [
    {
     "data": {
      "text/plain": [
       "0.5"
      ]
     },
     "execution_count": 7,
     "metadata": {},
     "output_type": "execute_result"
    }
   ],
   "source": [
    "f['edges']['v1_to_v1']['0']['sec_x'][1]"
   ]
  },
  {
   "cell_type": "code",
   "execution_count": 8,
   "id": "7d2ed8fc-2a60-4a79-98cf-1030fa47c3e3",
   "metadata": {},
   "outputs": [
    {
     "data": {
      "text/plain": [
       "<HDF5 dataset \"sec_id\": shape (85121203,), type \"<u8\">"
      ]
     },
     "execution_count": 8,
     "metadata": {},
     "output_type": "execute_result"
    }
   ],
   "source": [
    "f['edges']['v1_to_v1']['0']['sec_id']"
   ]
  },
  {
   "cell_type": "code",
   "execution_count": 9,
   "id": "fb27264f-a991-4ec4-bd8a-5815c4da218b",
   "metadata": {},
   "outputs": [],
   "source": [
    "emptySet = np.zeros_like(f['edges']['v1_to_v1']['0']['sec_id'][:])"
   ]
  },
  {
   "cell_type": "code",
   "execution_count": 10,
   "id": "011db700-f60a-4be3-a695-5391b9e854cd",
   "metadata": {},
   "outputs": [],
   "source": [
    "f['edges']['v1_to_v1']['0']['afferent_center_x'] = emptySet"
   ]
  },
  {
   "cell_type": "code",
   "execution_count": 12,
   "id": "546c6a06-48ba-4204-a5e2-ce4e5a8ee1a6",
   "metadata": {},
   "outputs": [],
   "source": [
    "f['edges']['v1_to_v1']['0']['afferent_center_y'] = emptySet\n",
    "f['edges']['v1_to_v1']['0']['afferent_center_z'] = emptySet\n",
    "\n",
    "f['edges']['v1_to_v1']['0']['afferent_surface_x'] = emptySet\n",
    "f['edges']['v1_to_v1']['0']['afferent_surface_y'] = emptySet\n",
    "f['edges']['v1_to_v1']['0']['afferent_surface_z'] = emptySet\n",
    "\n",
    "f['edges']['v1_to_v1']['0']['afferent_segment_offset'] = emptySet\n",
    "\n",
    "f['edges']['v1_to_v1']['0']['afferent_section_type'] = 3*np.ones_like(emptySet)\n",
    "f['edges']['v1_to_v1']['0']['afferent_segment_id'] = np.ones_like(emptySet)\n",
    "f['edges']['v1_to_v1']['0']['afferent_section_pos'] = f['edges']['v1_to_v1']['0']['sec_x']\n",
    "f['edges']['v1_to_v1']['0']['afferent_section_id'] = f['edges']['v1_to_v1']['0']['sec_id']\n",
    "\n",
    "f['edges']['v1_to_v1']['0']['efferent_center_x'] = emptySet\n",
    "f['edges']['v1_to_v1']['0']['efferent_center_y'] = emptySet\n",
    "f['edges']['v1_to_v1']['0']['efferent_center_z'] = emptySet\n",
    "\n",
    "f['edges']['v1_to_v1']['0']['efferent_surface_x'] = emptySet\n",
    "f['edges']['v1_to_v1']['0']['efferent_surface_y'] = emptySet\n",
    "f['edges']['v1_to_v1']['0']['efferent_surface_z'] = emptySet\n",
    "\n",
    "f['edges']['v1_to_v1']['0']['efferent_section_type'] = np.ones_like(emptySet)\n",
    "f['edges']['v1_to_v1']['0']['efferent_section_pos'] = f['edges']['v1_to_v1']['0']['sec_x']\n",
    "f['edges']['v1_to_v1']['0']['efferent_section_id'] = np.ones_like(emptySet)\n",
    "\n",
    "f['edges']['v1_to_v1']['0']['efferent_segment_id'] = np.ones_like(emptySet)\n",
    "\n",
    "f['edges']['v1_to_v1']['0']['efferent_segment_offset'] = emptySet\n",
    "\n",
    "f['edges']['v1_to_v1']['0']['conductance'] = f['edges']['v1_to_v1']['0']['syn_weight']\n"
   ]
  },
  {
   "cell_type": "code",
   "execution_count": 19,
   "id": "ef578031-be9d-481c-b0eb-b3c323202f76",
   "metadata": {},
   "outputs": [],
   "source": [
    "params = csv.loc[f['edges']['v1_to_v1']['edge_type_id'][:]]"
   ]
  },
  {
   "cell_type": "code",
   "execution_count": 21,
   "id": "94e53906-2e33-481f-a184-fe7a17c14651",
   "metadata": {},
   "outputs": [],
   "source": [
    "delays = params['delay']"
   ]
  },
  {
   "cell_type": "code",
   "execution_count": 16,
   "id": "910d58cd-aabe-42cc-9380-532d61017fe0",
   "metadata": {},
   "outputs": [],
   "source": [
    "f.close()"
   ]
  },
  {
   "cell_type": "code",
   "execution_count": null,
   "id": "73c89f71-a2a2-44bf-9fb0-4464e3c04ccf",
   "metadata": {},
   "outputs": [],
   "source": []
  }
 ],
 "metadata": {
  "kernelspec": {
   "display_name": "Python 3 (ipykernel)",
   "language": "python",
   "name": "python3"
  },
  "language_info": {
   "codemirror_mode": {
    "name": "ipython",
    "version": 3
   },
   "file_extension": ".py",
   "mimetype": "text/x-python",
   "name": "python",
   "nbconvert_exporter": "python",
   "pygments_lexer": "ipython3",
   "version": "3.11.6"
  }
 },
 "nbformat": 4,
 "nbformat_minor": 5
}
