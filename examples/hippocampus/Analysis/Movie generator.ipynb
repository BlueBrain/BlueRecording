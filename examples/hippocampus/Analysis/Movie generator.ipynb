{
 "cells": [
  {
   "cell_type": "code",
   "execution_count": 1,
   "id": "a8db4d23-1bfb-44b5-bf6c-9d0ef76671cc",
   "metadata": {},
   "outputs": [],
   "source": [
    "# SPDX-License-Identifier: GPL-3.0-or-later"
   ]
  },
  {
   "cell_type": "code",
   "execution_count": 1,
   "id": "ec682463",
   "metadata": {},
   "outputs": [],
   "source": [
    "import numpy\n",
    "import pandas\n",
    "import os\n",
    "import h5py\n",
    "\n",
    "import conntility\n",
    "import bluepysnap as bluepy\n",
    "\n",
    "from matplotlib import pyplot as plt\n",
    "\n",
    "fn_sim = \"../sscxSimulation/simulation_config.json\"\n",
    "population = \"S1nonbarrel_neurons\"\n",
    "pop_filter = [  # Here: Only plot the excitatory population\n",
    "    {\n",
    "        \"column\": \"synapse_class\",\n",
    "        \"values\": [\"INH\"]\n",
    "    }\n",
    "]\n",
    "bin_sz = 10 # Size of time bins\n",
    "\n",
    "sim = bluepy.Simulation(fn_sim)\n",
    "spk_fn = os.path.join(sim.config[\"output\"][\"output_dir\"], sim.config[\"output\"][\"spikes_file\"])\n",
    "circ = sim.circuit\n",
    "spk_h5 = h5py.File(spk_fn, \"r\")\n",
    "\n",
    "\n"
   ]
  },
  {
   "cell_type": "markdown",
   "id": "397ed787",
   "metadata": {},
   "source": [
    "## Load spikes\n",
    "\n",
    "and format them into a useful representation.\n",
    "Target format is a pandas Series, indexed by neuron id, values corresponding to the time bin they fall into.\n",
    "\n",
    "Specifically, time bins are represented by the time in ms they start. This allows us to remove duplicate spikes in a bin, i.e. when a neuron spikes more than one time in a bin, only the first one is kept. Reasoning: We want to plot what fraction of the population is recruited, not how strongly a given neuron is recruited."
   ]
  },
  {
   "cell_type": "code",
   "execution_count": 2,
   "id": "2c68707c",
   "metadata": {},
   "outputs": [
    {
     "data": {
      "text/html": [
       "<div>\n",
       "<style scoped>\n",
       "    .dataframe tbody tr th:only-of-type {\n",
       "        vertical-align: middle;\n",
       "    }\n",
       "\n",
       "    .dataframe tbody tr th {\n",
       "        vertical-align: top;\n",
       "    }\n",
       "\n",
       "    .dataframe thead th {\n",
       "        text-align: right;\n",
       "    }\n",
       "</style>\n",
       "<table border=\"1\" class=\"dataframe\">\n",
       "  <thead>\n",
       "    <tr style=\"text-align: right;\">\n",
       "      <th></th>\n",
       "      <th>tbins</th>\n",
       "    </tr>\n",
       "    <tr>\n",
       "      <th>node_ids</th>\n",
       "      <th></th>\n",
       "    </tr>\n",
       "  </thead>\n",
       "  <tbody>\n",
       "    <tr>\n",
       "      <th>3600059</th>\n",
       "      <td>20</td>\n",
       "    </tr>\n",
       "    <tr>\n",
       "      <th>3508860</th>\n",
       "      <td>20</td>\n",
       "    </tr>\n",
       "    <tr>\n",
       "      <th>3594234</th>\n",
       "      <td>20</td>\n",
       "    </tr>\n",
       "    <tr>\n",
       "      <th>3596862</th>\n",
       "      <td>20</td>\n",
       "    </tr>\n",
       "    <tr>\n",
       "      <th>3597829</th>\n",
       "      <td>20</td>\n",
       "    </tr>\n",
       "  </tbody>\n",
       "</table>\n",
       "</div>"
      ],
      "text/plain": [
       "          tbins\n",
       "node_ids       \n",
       "3600059      20\n",
       "3508860      20\n",
       "3594234      20\n",
       "3596862      20\n",
       "3597829      20"
      ]
     },
     "execution_count": 2,
     "metadata": {},
     "output_type": "execute_result"
    }
   ],
   "source": [
    "bins = numpy.arange(0, 10000 + bin_sz, bin_sz)\n",
    "\n",
    "t = spk_h5[\"spikes\"][population][\"timestamps\"][:]\n",
    "tbins = bin_sz * (numpy.digitize(t, bins=bins) - 1)\n",
    "spks = pandas.Series(tbins, name=\"tbins\",\n",
    "                     index=pandas.Index(spk_h5[\"spikes\"][population][\"node_ids\"][:], name=\"node_ids\"))\n",
    "\n",
    "spks = spks.reset_index().drop_duplicates().set_index(\"node_ids\", drop=True)\n",
    "spks.head()"
   ]
  },
  {
   "cell_type": "markdown",
   "id": "c02fb721",
   "metadata": {},
   "source": [
    "# Load neuron information\n",
    "We load the neuron, apply the specified filter, and group them into hexagonal bins with 50 um diameter"
   ]
  },
  {
   "cell_type": "code",
   "execution_count": 3,
   "id": "043a9887",
   "metadata": {},
   "outputs": [
    {
     "name": "stdout",
     "output_type": "stream",
     "text": [
      "Rotation errors: min: 0.0, median: 0.09388555231229005, mean: 0.13639662907091096, std: 0.1572698939879801, max: 2.0\n"
     ]
    },
    {
     "name": "stderr",
     "output_type": "stream",
     "text": [
      "/gpfs/bbp.cscs.ch/home/tharayil/conntilitEnv/lib/python3.11/site-packages/conntility/circuit_models/neuron_groups/tessellate.py:381: RuntimeWarning: invalid value encountered in cast\n",
      "  scaled_u = np.array(np.floor(uvs.u.values / self._side), dtype=int)\n",
      "/gpfs/bbp.cscs.ch/home/tharayil/conntilitEnv/lib/python3.11/site-packages/conntility/circuit_models/neuron_groups/tessellate.py:382: RuntimeWarning: invalid value encountered in cast\n",
      "  scaled_v = np.array(np.floor(uvs.v.values / self._side), dtype=int)\n"
     ]
    }
   ],
   "source": [
    "load_cfg = {\n",
    "    \"loading\":{    \n",
    "        \"properties\": [\"x\", \"y\", \"z\", \"ss_flat_x\", \"ss_flat_y\", \"synapse_class\"],\n",
    "        \"base_target\": \"Mosaic\",\n",
    "    },\n",
    "    \"filtering\": pop_filter,\n",
    "    \"grouping\": [\n",
    "        {\n",
    "            \"method\": \"group_by_grid\",\n",
    "            \"columns\": [\"ss_flat_x\", \"ss_flat_y\"],\n",
    "            \"args\": [50.0],\n",
    "            \"kwargs\":{\n",
    "                \"prefix\": \"hex-\"                \n",
    "            }\n",
    "        }\n",
    "    ]\n",
    "}\n",
    "\n",
    "props = [\"x\", \"y\", \"z\", \"ss_flat_x\", \"ss_flat_y\", \"synapse_class\"]\n",
    "\n",
    "nrn = conntility.circuit_models.neuron_groups.load_group_filter(\n",
    "    circ,\n",
    "    load_cfg,\n",
    "    node_population=population\n",
    ")"
   ]
  },
  {
   "cell_type": "markdown",
   "id": "3345ac9d",
   "metadata": {},
   "source": [
    "# Preliminary calculations\n",
    "We create a number of lookups:\n",
    "- Lookup from the name of a hexagon group to the location of the hexagon in flat space\n",
    "- Lookup from neuron id to name of the hexagon group it belongs to\n",
    "\n",
    "Then we filter the loaded spikes to only keep the ones we have a lookup for. That applies the specified filter also to the spikes. After this, we represent the spikes no longer by the neuron id of the spiking neuron, but only by the hexagon group it belongs to!\n",
    "\n",
    "Finally, we count the number of neurons in each hexagon group, to be used for normalization."
   ]
  },
  {
   "cell_type": "code",
   "execution_count": 4,
   "id": "92fe80c7",
   "metadata": {},
   "outputs": [],
   "source": [
    "# Position lookup\n",
    "positions = nrn.set_index(\"hex-subtarget\")[[\"hex-x\", \"hex-y\"]].drop_duplicates()\n",
    "positions = positions.loc[positions[\"hex-x\"] > -1E10]\n",
    "\n",
    "# hexagon group lookup\n",
    "lo = nrn.set_index(\"node_ids\")[\"hex-subtarget\"]\n",
    "\n",
    "# Discard spikes of neurons that have not been loaded, i.e. filtered out\n",
    "valid = numpy.in1d(spks.index, lo.index)\n",
    "spks = spks[valid]\n",
    "spks.index = pandas.Index(lo[spks.index].values, name=\"group\")\n",
    "\n",
    "# Number of neurons in each hexagon subtarget\n",
    "grp_counts = nrn.groupby(\"hex-subtarget\")[\"x\"].count()"
   ]
  },
  {
   "cell_type": "markdown",
   "id": "515accce",
   "metadata": {},
   "source": [
    "# Actual calculation\n",
    "Now we count the number of neurons recruited in each combination of hexagon and time bin. \n",
    "The result is normalized by the total number of neurons in the corresponding hexagon. That is, the result is the percentage of neurons in a hexagon group that is recruited in the time bin, i.e. fires at least once."
   ]
  },
  {
   "cell_type": "code",
   "execution_count": 5,
   "id": "1bca7f1b",
   "metadata": {},
   "outputs": [],
   "source": [
    "def bin_and_counts(grp):\n",
    "    x = grp.index[0]\n",
    "    H = numpy.histogram(grp.values, bins=bins)[0]\n",
    "    return pandas.Series(H / grp_counts[x], index=pandas.Index(bins[:-1], name=\"tbins\"))\n",
    "\n",
    "H = spks.groupby(\"group\").apply(bin_and_counts) * 100\n",
    "\n",
    "# Restrict to hexagon groups we have locations for.\n",
    "H = H.loc[H.index.intersection(positions.index)]\n",
    "# Ensure positions and recruitment vectors are in the same order. That way we can easily plot them.\n",
    "positions = positions.loc[H.index]"
   ]
  },
  {
   "cell_type": "markdown",
   "id": "8adf5581",
   "metadata": {},
   "source": [
    "# Plotting"
   ]
  },
  {
   "cell_type": "code",
   "execution_count": 6,
   "id": "3210cb3e",
   "metadata": {},
   "outputs": [
    {
     "name": "stderr",
     "output_type": "stream",
     "text": [
      "76it [00:10,  7.01it/s]\n"
     ]
    }
   ],
   "source": [
    "import tqdm\n",
    "figsz = (5, 4)\n",
    "plt_bins = numpy.arange(3000, 3760, 10)\n",
    "out_dir = \"./movie_inh\"\n",
    "if not os.path.exists(out_dir):\n",
    "    os.makedirs(out_dir)\n",
    "\n",
    "    \n",
    "for i, t_tgt in tqdm.tqdm(enumerate(plt_bins)):\n",
    "    fig = plt.figure(figsize=figsz)\n",
    "    ax = fig.gca()\n",
    "    s = ax.scatter(positions[\"hex-x\"].values, positions[\"hex-y\"].values, marker=\"h\", s=8,\n",
    "               c=H[t_tgt].values, clim=[0, 50])\n",
    "    plt.colorbar(s, shrink=0.7, label=\"Perc. recruited\")\n",
    "    plt.axis(\"equal\")\n",
    "    ax.set_frame_on(False)\n",
    "    ax.set_xticks([]); ax.set_yticks([])\n",
    "    \n",
    "    fig.savefig(os.path.join(out_dir, \"frame-{i:03}.png\".format(i=i)))\n",
    "    plt.close(fig)"
   ]
  },
  {
   "cell_type": "code",
   "execution_count": null,
   "id": "9932678a-c847-4eee-a0c5-e38adc87ed69",
   "metadata": {},
   "outputs": [],
   "source": []
  }
 ],
 "metadata": {
  "kernelspec": {
   "display_name": "Python 3 (ipykernel)",
   "language": "python",
   "name": "python3"
  },
  "language_info": {
   "codemirror_mode": {
    "name": "ipython",
    "version": 3
   },
   "file_extension": ".py",
   "mimetype": "text/x-python",
   "name": "python",
   "nbconvert_exporter": "python",
   "pygments_lexer": "ipython3",
   "version": "3.11.6"
  }
 },
 "nbformat": 4,
 "nbformat_minor": 5
}
