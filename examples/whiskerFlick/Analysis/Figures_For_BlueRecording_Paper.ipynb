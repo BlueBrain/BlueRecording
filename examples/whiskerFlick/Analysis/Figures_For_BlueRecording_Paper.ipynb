{
 "cells": [
  {
   "cell_type": "code",
   "execution_count": 1,
   "id": "5543a8bb-a4c1-4c79-9f33-ccef32460597",
   "metadata": {},
   "outputs": [],
   "source": [
    "import numpy as np\n",
    "import matplotlib.pyplot as plt\n",
    "import numpy as np\n",
    "import pandas as pd\n",
    "import os\n",
    "import scipy\n",
    "from scipy.stats import linregress\n",
    "import matplotlib\n",
    "import bluepysnap as bp"
   ]
  },
  {
   "cell_type": "code",
   "execution_count": 2,
   "id": "ec338f50-3804-4b9a-bfba-aec851ab6e47",
   "metadata": {},
   "outputs": [],
   "source": [
    "%matplotlib widget"
   ]
  },
  {
   "cell_type": "code",
   "execution_count": 3,
   "id": "93da3a4c-f29d-4d5f-9c14-8dce660d7179",
   "metadata": {},
   "outputs": [],
   "source": [
    "# Defines paths to the two simulation campaigns\n",
    "s = '../whiskerFlickSim/original/'\n",
    "s1 = '../whiskerFlickSim/disconnected/'"
   ]
  },
  {
   "cell_type": "code",
   "execution_count": 4,
   "id": "effe51a7-37d2-434c-912e-034683e227e9",
   "metadata": {},
   "outputs": [],
   "source": [
    "def getHistByLayer(path_to_sims,bins=None):\n",
    "\n",
    "    '''\n",
    "    Thsi function iterates through all of the trials, and produces a spike time histogram for each layer, separately for excitatory and inhibitory cells. \n",
    "    Outputs a matrix of size nTrials x 2 x nLayers x nBins\n",
    "    '''\n",
    "\n",
    "    numSims = 10\n",
    "    numLayers = 6\n",
    "    numBins = 225\n",
    "    bins = np.linspace(1975,2200,numBins+1)\n",
    "\n",
    "    allSpikes = np.zeros([numSims,2,numLayers,numBins])\n",
    "   \n",
    "    for sim in range(numSims):\n",
    "\n",
    "        s = bp.Simulation( path_to_sims + '/'+str(sim)+'/simulation_config.json' )\n",
    "\n",
    "        c = s.circuit\n",
    "        layerDF = list(c.nodes.get(group='hex_O1',properties=['layer','synapse_class']))[0][1].loc['S1nonbarrel_neurons']\n",
    "    \n",
    "        for layer in np.arange(1,numLayers+1):\n",
    "\n",
    "            layerIds = list(layerDF[layerDF['layer']==layer].index)\n",
    "\n",
    "\n",
    "            for classIdx, synClass in enumerate(['EXC','INH']):\n",
    "\n",
    "                classIds = list(layerDF[layerDF['synapse_class']==synClass].index)\n",
    "\n",
    "                selectedIds = np.intersect1d(layerIds,classIds)\n",
    "\n",
    "            \n",
    "                spikes = s.spikes['S1nonbarrel_neurons'].get(group=selectedIds,t_start=1975,t_stop=2200)\n",
    "\n",
    "            \n",
    "                if bins is None:\n",
    "                    \n",
    "                    spike_hist,bins = np.histogram(list(spikes.index),bins=numBins)\n",
    "\n",
    "    \n",
    "                else:\n",
    "    \n",
    "                    spike_hist,_ = np.histogram(list(spikes.index),bins=bins)\n",
    "            \n",
    "                allSpikes[sim,classIdx,layer-1] = spike_hist\n",
    "\n",
    "\n",
    "    return allSpikes, bins"
   ]
  },
  {
   "cell_type": "code",
   "execution_count": 5,
   "id": "31b9853a-f559-4113-94e0-ec30d75c5500",
   "metadata": {},
   "outputs": [],
   "source": [
    "spikes_original, bins = getHistByLayer(s)"
   ]
  },
  {
   "cell_type": "code",
   "execution_count": 6,
   "id": "4503223f-defe-4456-b3ef-f98f9fffb84a",
   "metadata": {},
   "outputs": [],
   "source": [
    "spikes_disconnected, bins = getHistByLayer(s1,bins)"
   ]
  },
  {
   "cell_type": "code",
   "execution_count": 7,
   "id": "2f23d075-0f16-4577-80d4-52cd49e83737",
   "metadata": {},
   "outputs": [],
   "source": [
    "bins = (bins[:-1]+bins[1:])/2"
   ]
  },
  {
   "cell_type": "code",
   "execution_count": 8,
   "id": "c5c194cd-b5f6-4e6f-84e1-996c3c0270f5",
   "metadata": {},
   "outputs": [],
   "source": [
    "def meanAndCI(EEGs):\n",
    "\n",
    "    '''\n",
    "    Given a matrix of EEG or spike histograms for each trial, finds the mean and 95% CI over trials\n",
    "    '''\n",
    "\n",
    "    mean = np.mean(EEGs,axis=0)\n",
    "\n",
    "    lowerbound = scipy.stats.t.ppf(0.05,9,mean,np.std(EEGs,axis=0))\n",
    "    upperbound = scipy.stats.t.ppf(0.95,9,mean,np.std(EEGs,axis=0))\n",
    "\n",
    "    return mean, lowerbound, upperbound"
   ]
  },
  {
   "cell_type": "code",
   "execution_count": 9,
   "id": "d41038eb-8fce-4b34-96a0-41fda1d2a1d4",
   "metadata": {},
   "outputs": [],
   "source": [
    "def getEEGsByTypes(path):\n",
    "\n",
    "    '''\n",
    "    Given a path ot a simulation, creates a dictionary of EEG signals for each cell type\n",
    "    '''\n",
    "\n",
    "    EEGs = {}\n",
    "\n",
    "    for file in os.listdir(path+'/pkls'):\n",
    "        t = file.split('.')[0].split('g')[1]\n",
    "        \n",
    "        EEGs[t] = pd.read_pickle(path+'/pkls/'+file).values[19750:22000,0] # For memory reasons, we extract only a portion of the signal\n",
    "\n",
    "    return EEGs"
   ]
  },
  {
   "cell_type": "code",
   "execution_count": 10,
   "id": "503d25dc-d540-4e2f-8b67-47d46425ca82",
   "metadata": {},
   "outputs": [],
   "source": [
    "def getEEGByLayer(path_to_sims):\n",
    "\n",
    "    '''\n",
    "    Iterates over all trials, and produces a matrix of the EEG contributions of each layer, for excitatory and inhibitory cells separately\n",
    "    Outputs a matrix of size nTrials x 2 x nLayers x nTimeSteps\n",
    "    '''\n",
    "\n",
    "    duration = 22000-19750\n",
    "\n",
    "    allEEGList = []\n",
    "\n",
    "    for sim in range(10):\n",
    "\n",
    "        s = bp.Simulation( path_to_sims +'/'+str(sim) + '/simulation_config.json' )\n",
    "        c = s.circuit\n",
    "        \n",
    "    \n",
    "        eegEXC = np.zeros((7,duration))\n",
    "        eegINH = np.zeros((7,duration))\n",
    "    \n",
    "        eegList = [eegEXC, eegINH]\n",
    "\n",
    "        EEGsByTypes = getEEGsByTypes(path_to_sims +'/'+str(sim))\n",
    "    \n",
    "        for mtype in np.sort(np.unique(list(EEGsByTypes.keys()))):\n",
    "    \n",
    "            synsDF = list(c.nodes.get(group=mtype,properties=['synapse_class']))[0][1].loc['S1nonbarrel_neurons'].iloc[0].values\n",
    "    \n",
    "            if synsDF=='EXC':\n",
    "                synIdx = 0\n",
    "            elif synsDF=='INH':\n",
    "                synIdx = 1\n",
    "    \n",
    "            layer = int(mtype.split('_')[0].split('L')[1])\n",
    "    \n",
    "            if layer == 2 or layer == 3 or layer == 23:\n",
    "                layer = 2\n",
    "    \n",
    "            eegList[synIdx][layer] += (EEGsByTypes[mtype]-np.mean(EEGsByTypes[mtype][:250])) # Removes baseline offset\n",
    "\n",
    "            allEEGList.append(eegList)                          \n",
    "    \n",
    "    \n",
    "    return np.array(allEEGList)/10"
   ]
  },
  {
   "cell_type": "code",
   "execution_count": 11,
   "id": "bfce211e-3e25-45e0-9d79-44cc2e4d6a3d",
   "metadata": {},
   "outputs": [],
   "source": [
    "def getEEGs(path):\n",
    "\n",
    "    '''\n",
    "    Given a path to simulations, outputs the EEG from each trial\n",
    "    Outputs a matrix of size nTrials x nTimeSteps\n",
    "    '''\n",
    "\n",
    "    EEGs = list(np.zeros(10))\n",
    "\n",
    "    for i in range(10):\n",
    "\n",
    "        for file in os.listdir(path+'/'+str(i)+'/pkls'):\n",
    "\n",
    "            EEGs[i] += pd.read_pickle(path+'/'+str(i)+'/pkls/'+file).values[19750:22000,0] # For memory reasons, we extract only a portion of the signal\n",
    "\n",
    "    \n",
    "    EEGs = np.array(EEGs)\n",
    "    EEGs -= np.mean(EEGs[:,:250],axis=-1)[:,np.newaxis] # Removes baseline offset\n",
    "\n",
    "    return EEGs"
   ]
  },
  {
   "cell_type": "code",
   "execution_count": 12,
   "id": "f48605d9-0dcc-4d43-87cc-7e0ece953213",
   "metadata": {},
   "outputs": [],
   "source": [
    "def getStuff(path):\n",
    "\n",
    "    EEGs = getEEGs(path)\n",
    "    mean, lowerbound, upperbound = meanAndCI(EEGs)\n",
    "\n",
    "    return mean, lowerbound, upperbound"
   ]
  },
  {
   "cell_type": "code",
   "execution_count": 13,
   "id": "79b05e40-1942-4860-9a12-d6599a79e54a",
   "metadata": {},
   "outputs": [],
   "source": [
    "def getByLayer(path):\n",
    "\n",
    "    EEGs = np.array(getEEGByLayer(path))\n",
    "    mean, lowerbound, upperbound = meanAndCI(EEGs)\n",
    "\n",
    "    return mean, lowerbound, upperbound "
   ]
  },
  {
   "cell_type": "code",
   "execution_count": 14,
   "id": "3f68b841-b67e-4aa2-9df1-47b66170cc34",
   "metadata": {},
   "outputs": [],
   "source": [
    "meanEEG, lowerboundEEG, upperboundEEG = getStuff(s)"
   ]
  },
  {
   "cell_type": "code",
   "execution_count": 15,
   "id": "cfef3a30-b6b3-474b-9656-1b1a20ccf9bb",
   "metadata": {},
   "outputs": [
    {
     "name": "stderr",
     "output_type": "stream",
     "text": [
      "/gpfs/bbp.cscs.ch/home/tharayil/bluerecording-dev/lib/python3.11/site-packages/scipy/stats/_distn_infrastructure.py:2351: RuntimeWarning: invalid value encountered in multiply\n",
      "  lower_bound = _a * scale + loc\n",
      "/gpfs/bbp.cscs.ch/home/tharayil/bluerecording-dev/lib/python3.11/site-packages/scipy/stats/_distn_infrastructure.py:2352: RuntimeWarning: invalid value encountered in multiply\n",
      "  upper_bound = _b * scale + loc\n"
     ]
    }
   ],
   "source": [
    "mean_layer, lowerbound_layer, upperbound_layer = getByLayer(s)"
   ]
  },
  {
   "cell_type": "code",
   "execution_count": 16,
   "id": "80e6cb3b-c2cb-4336-83c4-25478a6ecfc2",
   "metadata": {},
   "outputs": [],
   "source": [
    "meanEEG_disconnected, lowerboundEEG_disconnected, upperboundEEG_disconnected = getStuff(s1)"
   ]
  },
  {
   "cell_type": "code",
   "execution_count": null,
   "id": "9c54197e-f927-4a44-aea1-b64c3c74b2c8",
   "metadata": {},
   "outputs": [],
   "source": [
    "mean_layer_disconnected, lowerbound_layer_disconnected, upperbound_layer_disconnected = getByLayer(s1)"
   ]
  },
  {
   "cell_type": "code",
   "execution_count": null,
   "id": "b08c2380-3ca3-4c75-b8f9-b56c0a1dd573",
   "metadata": {},
   "outputs": [],
   "source": [
    "mean_spikes,lowerbound_spikes,upperbound_spikes = meanAndCI(spikes_original)\n",
    "mean_spikes_disconnected,lowerbound_spikes_disconnected,upperbound_spikes_disconnected = meanAndCI(spikes_disconnected)"
   ]
  },
  {
   "cell_type": "code",
   "execution_count": null,
   "id": "daffe420-3425-441b-81d6-8e6ee581fca5",
   "metadata": {},
   "outputs": [],
   "source": [
    "time = np.linspace(0,225,2250)"
   ]
  },
  {
   "cell_type": "code",
   "execution_count": null,
   "id": "6f72c8b0-91b9-4840-bf42-32684173811f",
   "metadata": {},
   "outputs": [],
   "source": [
    "def getTimeIndices(bins,startTime=0,endTime=225):\n",
    "\n",
    "    '''\n",
    "    Given a vector of bins from a spike histogram, finds the time steps corresponding to each bin in an EEG trace sampled at 10 kHz \n",
    "    '''\n",
    "\n",
    "    time = np.arange(startTime,endTime,.1)\n",
    "\n",
    "    timeIndices = []\n",
    "    for t in bins[startTime:endTime]:\n",
    "        index = np.argmin(np.abs(t-time))\n",
    "        timeIndices.append(index)\n",
    "\n",
    "    return timeIndices"
   ]
  },
  {
   "cell_type": "code",
   "execution_count": null,
   "id": "b20d731e-2e25-49fe-ae5c-fc056aff09d6",
   "metadata": {},
   "outputs": [],
   "source": [
    "def getCorrelationsByLayer(EEGs, spikes,bins=np.arange(225),startTime=0,endTime=225):\n",
    "\n",
    "    '''\n",
    "    Given an EEG contribution from each layer, sampled at 10kHz, and a spiking histogram from each layer,\n",
    "    returns the correlation matrix between the EEG contributions and the spike frequencies\n",
    "    '''\n",
    "\n",
    "    timeIndices = getTimeIndices(bins,startTime,endTime)\n",
    "\n",
    "    correlationMatrix = np.zeros([5,5])\n",
    "    \n",
    "    for i in range(5):\n",
    "    \n",
    "        for j in range(5):\n",
    "        \n",
    "            correlationMatrix[i,j] = scipy.stats.pearsonr(spikes[i][startTime:endTime],EEGs[j][timeIndices]).statistic\n",
    "\n",
    "    return correlationMatrix"
   ]
  },
  {
   "cell_type": "code",
   "execution_count": null,
   "id": "eda256ab-1fe0-422a-8936-5cca70df1b34",
   "metadata": {},
   "outputs": [],
   "source": [
    "eegDifference = np.sum(mean_layer,axis=0)-np.sum(mean_layer_disconnected,axis=0) # Difference in the EEG contributions per layer between the connected and the disconnected circuit \n"
   ]
  },
  {
   "cell_type": "code",
   "execution_count": null,
   "id": "d5570e71-5644-40d1-82d1-46e9d5b72c91",
   "metadata": {},
   "outputs": [],
   "source": [
    "allSpikes = mean_spikes.sum(axis=0) # Sums spike histograms for excitatory and inhibitory cells to produce one for all cells\n",
    "# Sums 95% CI  for both histograms\n",
    "lowerbound_spikes = lowerbound_spikes.sum(axis=0) \n",
    "upperbound_spikes=upperbound_spikes.sum(axis=0)\n"
   ]
  },
  {
   "cell_type": "code",
   "execution_count": null,
   "id": "4326b3bf-1c07-4827-938f-a23542fcbc70",
   "metadata": {},
   "outputs": [],
   "source": [
    "# Does the same as in the cell above, but for the disconnected circuit\n",
    "\n",
    "allSpikes_disconnected = mean_spikes_disconnected.sum(axis=0)\n",
    "lowerbound_spikes_disconnected = lowerbound_spikes_disconnected.sum(axis=0)\n",
    "upperbound_spikes_disconnected=upperbound_spikes_disconnected.sum(axis=0)\n"
   ]
  },
  {
   "cell_type": "code",
   "execution_count": null,
   "id": "8df63262-50d9-4320-83c3-ca8234b7346a",
   "metadata": {},
   "outputs": [],
   "source": [
    "# Finds correlations between EEG and firing rate, for the overall signal and for specified time windows"
   ]
  },
  {
   "cell_type": "code",
   "execution_count": null,
   "id": "fd722bef-cd43-4a71-8513-573979f0650b",
   "metadata": {},
   "outputs": [],
   "source": [
    "mean_spikes[0].shape"
   ]
  },
  {
   "cell_type": "code",
   "execution_count": null,
   "id": "c9379fa4-2f00-41a5-ada1-fdceea4004f7",
   "metadata": {},
   "outputs": [],
   "source": [
    "correlationsExcExc = getCorrelationsByLayer(mean_layer[0,[1,2,4,5,6]],mean_spikes[0])\n",
    "correlationsExcExcP = getCorrelationsByLayer(mean_layer[0,[1,2,4,5,6]],mean_spikes[0],bins=np.arange(225),startTime=35,endTime=40)\n",
    "correlationsExcExcN = getCorrelationsByLayer(mean_layer[0,[1,2,4,5,6]],mean_spikes[0],bins=np.arange(225),startTime=40,endTime=45)\n",
    "\n",
    "correlationsExcExcDiff = getCorrelationsByLayer(eegDifference[[1,2,4,5,6]],mean_spikes[0])\n",
    "correlationsExcExcDiffP = getCorrelationsByLayer(eegDifference[[1,2,4,5,6]],mean_spikes[0],bins=np.arange(225),startTime=35,endTime=40)\n",
    "correlationsExcExcDiffN = getCorrelationsByLayer(eegDifference[[1,2,4,5,6]],mean_spikes[0],bins=np.arange(225),startTime=40,endTime=45)\n",
    "correlationsExcExcDiffL = getCorrelationsByLayer(eegDifference[[1,2,4,5,6]],mean_spikes[0],bins=np.arange(225),startTime=45,endTime=200)\n"
   ]
  },
  {
   "cell_type": "code",
   "execution_count": null,
   "id": "1e8a277b-7931-470c-b12b-38010c2c88a4",
   "metadata": {},
   "outputs": [],
   "source": [
    "correlationsInhExc = getCorrelationsByLayer(mean_layer[0,[1,2,4,5,6]],mean_spikes[1])\n",
    "correlationsInhExcP = getCorrelationsByLayer(mean_layer[0,[1,2,4,5,6]],mean_spikes[1],bins=np.arange(225),startTime=35,endTime=40)\n",
    "correlationsInhExcN = getCorrelationsByLayer(mean_layer[0,[1,2,4,5,6]],mean_spikes[1],bins=np.arange(225),startTime=40,endTime=45)\n",
    "\n",
    "correlationsInhExcDiff = getCorrelationsByLayer(eegDifference[[1,2,4,5,6]],mean_spikes[1])\n",
    "correlationsInhExcDiffP = getCorrelationsByLayer(eegDifference[[1,2,4,5,6]],mean_spikes[1],bins=np.arange(225),startTime=35,endTime=40)\n",
    "correlationsInhExcDiffN = getCorrelationsByLayer(eegDifference[[1,2,4,5,6]],mean_spikes[1],bins=np.arange(225),startTime=40,endTime=45)\n",
    "correlationsInhExcDiffL = getCorrelationsByLayer(eegDifference[[1,2,4,5,6]],mean_spikes[1],bins=np.arange(225),startTime=45,endTime=200)\n"
   ]
  },
  {
   "cell_type": "code",
   "execution_count": null,
   "id": "97d51fe3-5b04-4d4e-ad59-7eaf9e492584",
   "metadata": {},
   "outputs": [],
   "source": [
    "plotTime = np.linspace(-25,200,2250) # Time vector with the stimulus occurring at 0 ms"
   ]
  },
  {
   "cell_type": "markdown",
   "id": "c83ff3ac-9c7b-4ff1-8825-b2bbe648ed0d",
   "metadata": {},
   "source": [
    "### Produces Panel b of Figure 6 in the BlueRecording paper"
   ]
  },
  {
   "cell_type": "code",
   "execution_count": null,
   "id": "8e40b089-ab4b-40ca-a397-e71b58bfc361",
   "metadata": {},
   "outputs": [],
   "source": [
    "from matplotlib.gridspec import GridSpec\n",
    "\n",
    "fig = plt.figure(figsize=(8,6))\n",
    "\n",
    "gs = GridSpec(6,3, figure=fig)\n",
    "\n",
    "ax = fig.add_subplot(gs[0,0])\n",
    "\n",
    "ax.plot(np.arange(-25,200),np.sum(allSpikes,axis=0),c='r')\n",
    "ax.plot(np.arange(-25,200),np.sum(allSpikes_disconnected,axis=0),c='b')\n",
    "ax.fill_between(np.arange(-25,200),np.sum(lowerbound_spikes,axis=0),np.sum(upperbound_spikes,axis=0),color='r',alpha=0.3)\n",
    "ax.fill_between(np.arange(-25,200),np.sum(lowerbound_spikes_disconnected,axis=0),np.sum(upperbound_spikes_disconnected,axis=0),color='b',alpha=0.3)\n",
    "ax.set_ylabel('Spikes')\n",
    "ax.set_xticklabels([])\n",
    "\n",
    "ax = fig.add_subplot(gs[0,1])\n",
    "                     \n",
    "ax.plot(plotTime,meanEEG)\n",
    "ax.plot(plotTime,meanEEG_disconnected)\n",
    "ax.fill_between(plotTime,lowerboundEEG,upperboundEEG,color='C0',alpha=0.3)\n",
    "ax.fill_between(plotTime,lowerboundEEG_disconnected,upperboundEEG_disconnected,color='C1',alpha=0.3)\n",
    "ax.set_ylabel('EEG (V)')\n",
    "ax.set_xticklabels([])\n",
    "\n",
    "ax = fig.add_subplot(gs[0,2])\n",
    "                     \n",
    "ax.plot(plotTime,meanEEG-meanEEG_disconnected,c='k')\n",
    "ax.set_ylabel('EEG\\nDifference\\n(V)')\n",
    "ax.set_xticklabels([])\n",
    "\n",
    "    \n",
    "ax = fig.add_subplot(gs[1,0])\n",
    "\n",
    "ax.plot(np.arange(-25,200),allSpikes[0],c='r')  \n",
    "ax.plot(np.arange(-25,200),allSpikes_disconnected[0],c='b')  \n",
    "\n",
    "ax.fill_between(np.arange(-25,200),lowerbound_spikes[0],upperbound_spikes[0],color='r',alpha=0.3)\n",
    "ax.fill_between(np.arange(-25,200),lowerbound_spikes_disconnected[0],upperbound_spikes_disconnected[0],color='b',alpha=0.3)\n",
    "ax.set_ylabel('Spikes')\n",
    "ax.set_xticklabels([])\n",
    "\n",
    "\n",
    "ax = fig.add_subplot(gs[2,0])\n",
    "\n",
    "ax.plot(np.arange(-25,200),allSpikes[1]+allSpikes[2],c='r')  \n",
    "ax.plot(np.arange(-25,200),allSpikes_disconnected[1]+allSpikes_disconnected[2],c='b')  \n",
    "\n",
    "ax.fill_between(np.arange(-25,200),lowerbound_spikes[1]+lowerbound_spikes[2],upperbound_spikes[1]+upperbound_spikes[2],color='r',alpha=0.3)\n",
    "ax.fill_between(np.arange(-25,200),lowerbound_spikes_disconnected[1]+lowerbound_spikes_disconnected[2],upperbound_spikes_disconnected[1]+upperbound_spikes_disconnected[2],color='b',alpha=0.3)\n",
    "ax.set_ylabel('Spikes')\n",
    "ax.set_xticklabels([])\n",
    "\n",
    "\n",
    "ax = fig.add_subplot(gs[3,0])\n",
    "\n",
    "ax.plot(np.arange(-25,200),allSpikes[3],c='r')  \n",
    "ax.plot(np.arange(-25,200),allSpikes_disconnected[3],c='b')  \n",
    "\n",
    "ax.fill_between(np.arange(-25,200),lowerbound_spikes[3],upperbound_spikes[3],color='r',alpha=0.3)\n",
    "ax.fill_between(np.arange(-25,200),lowerbound_spikes_disconnected[3],upperbound_spikes_disconnected[3],color='b',alpha=0.3)\n",
    "ax.set_ylabel('Spikes')\n",
    "ax.set_xticklabels([])\n",
    "\n",
    "\n",
    "ax = fig.add_subplot(gs[4,0])\n",
    "\n",
    "ax.plot(np.arange(-25,200),allSpikes[4],c='r')  \n",
    "ax.plot(np.arange(-25,200),allSpikes_disconnected[4],c='b')  \n",
    "\n",
    "ax.fill_between(np.arange(-25,200),lowerbound_spikes[4],upperbound_spikes[4],color='r',alpha=0.3)\n",
    "ax.fill_between(np.arange(-25,200),lowerbound_spikes_disconnected[4],upperbound_spikes_disconnected[4],color='b',alpha=0.3)\n",
    "ax.set_ylabel('Spikes')\n",
    "ax.set_xticklabels([])\n",
    "\n",
    "ax = fig.add_subplot(gs[5,0])\n",
    "\n",
    "ax.plot(np.arange(-25,200),allSpikes[5],c='r')  \n",
    "ax.plot(np.arange(-25,200),allSpikes_disconnected[5],c='b')  \n",
    "\n",
    "ax.fill_between(np.arange(-25,200),lowerbound_spikes[5],upperbound_spikes[5],color='r',alpha=0.3)\n",
    "ax.fill_between(np.arange(-25,200),lowerbound_spikes_disconnected[5],upperbound_spikes_disconnected[5],color='b',alpha=0.3)\n",
    "ax.set_xlabel('Time (ms)')\n",
    "ax.set_ylabel('Spikes')\n",
    "\n",
    "ax0 = fig.add_subplot(gs[1,1])\n",
    "ax1 = fig.add_subplot(gs[2,1])\n",
    "ax2 = fig.add_subplot(gs[3,1])\n",
    "ax3 = fig.add_subplot(gs[4,1])\n",
    "ax4 = fig.add_subplot(gs[5,1])\n",
    "\n",
    "axes = [ax0,ax1,ax2,ax3,ax4]\n",
    "\n",
    "\n",
    "for i, layer in enumerate([1,2,4,5,6]):\n",
    "\n",
    "    \n",
    "    ax = axes[i]\n",
    "    ax.plot(plotTime,np.sum(mean_layer[:,layer],axis=0))  \n",
    "    ax.plot(plotTime,np.sum(mean_layer_disconnected[:,layer],axis=0))  \n",
    "    ax.fill_between(plotTime,np.sum(lowerbound_layer[:,layer],axis=0),np.sum(upperbound_layer[:,layer],axis=0),color='C0',alpha=0.3)\n",
    "    ax.fill_between(plotTime,np.sum(lowerbound_layer_disconnected[:,layer],axis=0),np.sum(upperbound_layer_disconnected[:,layer],axis=0),color='C1',alpha=0.3)\n",
    "\n",
    "    if layer == 6:\n",
    "        ax.set_xlabel('Time (ms)')\n",
    "    else:\n",
    "        ax.set_xticklabels([])\n",
    "    ax.set_ylabel('EEG (V)')\n",
    "\n",
    "ax0 = fig.add_subplot(gs[1,2])\n",
    "ax1 = fig.add_subplot(gs[2,2])\n",
    "ax2 = fig.add_subplot(gs[3,2])\n",
    "ax3 = fig.add_subplot(gs[4,2])\n",
    "ax4 = fig.add_subplot(gs[5,2])\n",
    "\n",
    "axes = [ax0,ax1,ax2,ax3,ax4]\n",
    "\n",
    "\n",
    "for i, layer in enumerate([1,2,4,5,6]):\n",
    "\n",
    "    \n",
    "    ax = axes[i]\n",
    "    ax.plot(plotTime,np.sum(mean_layer[:,layer],axis=0)-np.sum(mean_layer_disconnected[:,layer],axis=0),c='k') \n",
    "    if layer == 6:\n",
    "        ax.set_xlabel('Time (ms)')\n",
    "    else:\n",
    "        ax.set_xticklabels([])\n",
    "    ax.set_ylabel('EEG\\nDifference\\n(V)')\n",
    "\n",
    "    # ax.set_xlim([0,35])\n",
    "\n",
    "\n",
    "plt.tight_layout()\n",
    "# plt.show()\n",
    "plt.savefig('figures/whiskerflick_eeg.png',dpi=300)"
   ]
  },
  {
   "cell_type": "markdown",
   "id": "af518720-482e-43e4-9bfa-59d0d3189a93",
   "metadata": {},
   "source": [
    "### Produces Panel c of Figure 6 in the BlueRecording paper"
   ]
  },
  {
   "cell_type": "code",
   "execution_count": null,
   "id": "59292c37-4dc1-4a58-b55b-0ceff69069fa",
   "metadata": {},
   "outputs": [],
   "source": [
    "fig = plt.figure(figsize=(8,4))\n",
    "\n",
    "gs = GridSpec(2,4, figure=fig)\n",
    "\n",
    "ax = fig.add_subplot(gs[0,0])\n",
    "ax.imshow(correlationsExcExcDiff,cmap='bwr',vmin=-1,vmax=1)\n",
    "plt.yticks(np.arange(5),labels=['1','2/3','4','5','6'])\n",
    "plt.xticks([])\n",
    "\n",
    "ax = fig.add_subplot(gs[0,1])\n",
    "ax.imshow(correlationsExcExc)\n",
    "ax.imshow(correlationsExcExcDiffP,cmap='bwr',vmin=-1,vmax=1)\n",
    "plt.yticks([])\n",
    "plt.xticks([])\n",
    "\n",
    "ax = fig.add_subplot(gs[0,2])\n",
    "ax.imshow(correlationsExcExc)\n",
    "ax.imshow(correlationsExcExcDiffN,cmap='bwr',vmin=-1,vmax=1)\n",
    "plt.xticks([])\n",
    "plt.yticks([])\n",
    "\n",
    "\n",
    "ax = fig.add_subplot(gs[0,3])\n",
    "ax.imshow(correlationsExcExcDiffL,cmap='bwr',vmin=-1,vmax=1)\n",
    "plt.yticks([])\n",
    "plt.xticks([])\n",
    "\n",
    "\n",
    "plt.yticks([])\n",
    "plt.xticks([])\n",
    "\n",
    "plt.yticks([])\n",
    "plt.xticks([])\n",
    "\n",
    "ax = fig.add_subplot(gs[1,0])\n",
    "ax.imshow(correlationsInhExcDiff,cmap='bwr',vmin=-1,vmax=1)\n",
    "plt.xticks(np.arange(5),labels=['1','2/3','4','5','6'])\n",
    "plt.yticks(np.arange(5),labels=['1','2/3','4','5','6'])\n",
    "\n",
    "ax = fig.add_subplot(gs[1,1])\n",
    "ax.imshow(correlationsInhExcDiffP,cmap='bwr',vmin=-1,vmax=1)\n",
    "plt.xticks(np.arange(5),labels=['1','2/3','4','5','6'])\n",
    "plt.yticks([])\n",
    "\n",
    "ax = fig.add_subplot(gs[1,2])\n",
    "ax.imshow(correlationsInhExcDiffN,cmap='bwr',vmin=-1,vmax=1)\n",
    "plt.xticks(np.arange(5),labels=['1','2/3','4','5','6'])\n",
    "plt.yticks([])\n",
    "\n",
    "ax = fig.add_subplot(gs[1,3])\n",
    "ax.imshow(correlationsInhExcDiffL,cmap='bwr',vmin=-1,vmax=1)\n",
    "plt.xticks(np.arange(5),labels=['1','2/3','4','5','6'])\n",
    "plt.yticks([])\n",
    "\n",
    "plt.tight_layout()\n",
    "plt.savefig('figures/whiskerflick_correlations.png',dpi=300)"
   ]
  },
  {
   "cell_type": "raw",
   "id": "b64a34be-21c6-4069-8ea9-d5a78e59d011",
   "metadata": {},
   "source": []
  }
 ],
 "metadata": {
  "kernelspec": {
   "display_name": "Python 3 (ipykernel)",
   "language": "python",
   "name": "python3"
  },
  "language_info": {
   "codemirror_mode": {
    "name": "ipython",
    "version": 3
   },
   "file_extension": ".py",
   "mimetype": "text/x-python",
   "name": "python",
   "nbconvert_exporter": "python",
   "pygments_lexer": "ipython3",
   "version": "3.11.6"
  }
 },
 "nbformat": 4,
 "nbformat_minor": 5
}
